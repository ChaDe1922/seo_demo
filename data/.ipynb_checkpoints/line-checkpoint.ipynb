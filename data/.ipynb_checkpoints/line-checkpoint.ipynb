{
 "cells": [
  {
   "cell_type": "code",
   "execution_count": 1,
   "metadata": {},
   "outputs": [],
   "source": [
    "import pandas as pd\n",
    "import matplotlib.pyplot as plt\n",
    "import numpy as np"
   ]
  },
  {
   "cell_type": "code",
   "execution_count": 2,
   "metadata": {},
   "outputs": [],
   "source": [
    "dataframe = pd.read_csv('music.csv', index_col = 0, parse_dates=True)"
   ]
  },
  {
   "cell_type": "code",
   "execution_count": 3,
   "metadata": {},
   "outputs": [
    {
     "name": "stdout",
     "output_type": "stream",
     "text": [
      "<class 'pandas.core.frame.DataFrame'>\n",
      "Float64Index: 10000 entries, 0.581793766 to 0.609181992\n",
      "Data columns (total 34 columns):\n",
      " #   Column                          Non-Null Count  Dtype  \n",
      "---  ------                          --------------  -----  \n",
      " 0   artist.hotttnesss               10000 non-null  float64\n",
      " 1   artist.id                       10000 non-null  object \n",
      " 2   artist.latitude                 10000 non-null  float64\n",
      " 3   artist.location                 10000 non-null  int64  \n",
      " 4   artist.longitude                10000 non-null  float64\n",
      " 5   artist.name                     10000 non-null  object \n",
      " 6   artist.similar                  10000 non-null  float64\n",
      " 7   artist.terms                    9995 non-null   object \n",
      " 8   artist.terms_freq               10000 non-null  float64\n",
      " 9   release.id                      10000 non-null  int64  \n",
      " 10  release.name                    10000 non-null  int64  \n",
      " 11  song.artist_mbtags              10000 non-null  float64\n",
      " 12  song.artist_mbtags_count        10000 non-null  float64\n",
      " 13  song.bars_confidence            10000 non-null  float64\n",
      " 14  song.bars_start                 10000 non-null  float64\n",
      " 15  song.beats_confidence           10000 non-null  float64\n",
      " 16  song.beats_start                10000 non-null  float64\n",
      " 17  song.duration                   10000 non-null  float64\n",
      " 18  song.end_of_fade_in             10000 non-null  float64\n",
      " 19  song.hotttnesss                 10000 non-null  float64\n",
      " 20  song.id                         10000 non-null  object \n",
      " 21  song.key                        10000 non-null  float64\n",
      " 22  song.key_confidence             10000 non-null  float64\n",
      " 23  song.loudness                   10000 non-null  float64\n",
      " 24  song.mode                       10000 non-null  int64  \n",
      " 25  song.mode_confidence            10000 non-null  float64\n",
      " 26  song.start_of_fade_out          10000 non-null  float64\n",
      " 27  song.tatums_confidence          10000 non-null  float64\n",
      " 28  song.tatums_start               10000 non-null  float64\n",
      " 29  song.tempo                      10000 non-null  float64\n",
      " 30  song.time_signature             10000 non-null  float64\n",
      " 31  song.time_signature_confidence  10000 non-null  float64\n",
      " 32  song.title                      10000 non-null  int64  \n",
      " 33  song.year                       10000 non-null  int64  \n",
      "dtypes: float64(24), int64(6), object(4)\n",
      "memory usage: 2.7+ MB\n"
     ]
    }
   ],
   "source": [
    "dataframe.info()"
   ]
  },
  {
   "cell_type": "code",
   "execution_count": null,
   "metadata": {},
   "outputs": [],
   "source": []
  }
 ],
 "metadata": {
  "kernelspec": {
   "display_name": "Python 3",
   "language": "python",
   "name": "python3"
  },
  "language_info": {
   "codemirror_mode": {
    "name": "ipython",
    "version": 3
   },
   "file_extension": ".py",
   "mimetype": "text/x-python",
   "name": "python",
   "nbconvert_exporter": "python",
   "pygments_lexer": "ipython3",
   "version": "3.6.9"
  }
 },
 "nbformat": 4,
 "nbformat_minor": 2
}
