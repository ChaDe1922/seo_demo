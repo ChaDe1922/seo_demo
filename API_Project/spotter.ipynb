{
 "cells": [
  {
   "cell_type": "code",
   "execution_count": 2,
   "metadata": {},
   "outputs": [],
   "source": [
    "import requests\n",
    "import spotipy"
   ]
  },
  {
   "cell_type": "code",
   "execution_count": 3,
   "metadata": {},
   "outputs": [],
   "source": [
    "CLIENT_ID = '744aee4ee39a4b6787e645452d1d36b4'\n",
    "CLIENT_SECRET = '7b72ec76041d4818b061e91ce613d780'"
   ]
  },
  {
   "cell_type": "code",
   "execution_count": 13,
   "metadata": {},
   "outputs": [],
   "source": [
    "#Authenticate myselfa\n",
    "AUTH_URL = 'https://accounts.spotify.com/api/token'\n",
    "#POST\n",
    "auth_response = requests.post(AUTH_URL, {\n",
    "    'grant_type': 'client_credentials',\n",
    "    'client_id': CLIENT_ID,\n",
    "    'client_secret': CLIENT_SECRET,\n",
    "})"
   ]
  },
  {
   "cell_type": "code",
   "execution_count": 14,
   "metadata": {},
   "outputs": [
    {
     "name": "stdout",
     "output_type": "stream",
     "text": [
      "200\n"
     ]
    }
   ],
   "source": [
    "print(auth_response.status_code)"
   ]
  },
  {
   "cell_type": "code",
   "execution_count": 15,
   "metadata": {},
   "outputs": [],
   "source": [
    "auth_response_data = auth_response.json()"
   ]
  },
  {
   "cell_type": "code",
   "execution_count": 16,
   "metadata": {},
   "outputs": [
    {
     "data": {
      "text/plain": [
       "{'access_token': 'BQB-VVGhv7JcWDfw3fGoP5Leoej6CcZpViwA47xwJsA6nUPecbsHJg8EBZLlsNDjeXQfrkdDsdA4ChlceBg',\n",
       " 'expires_in': 3600,\n",
       " 'token_type': 'Bearer'}"
      ]
     },
     "execution_count": 16,
     "metadata": {},
     "output_type": "execute_result"
    }
   ],
   "source": [
    "auth_response_data"
   ]
  },
  {
   "cell_type": "code",
   "execution_count": 18,
   "metadata": {},
   "outputs": [],
   "source": [
    "#pull the access token from the response\n",
    "access_token = auth_response_data['access_token']"
   ]
  },
  {
   "cell_type": "code",
   "execution_count": 24,
   "metadata": {},
   "outputs": [],
   "source": [
    "#send the token to the API\n",
    "headers = {\n",
    "    'Authorization': 'Bearer {token}'.format(token=access_token)\n",
    "}"
   ]
  },
  {
   "cell_type": "code",
   "execution_count": 25,
   "metadata": {},
   "outputs": [],
   "source": [
    "#Access endpoints\n",
    "BASE_URL = 'https://api.spotify.com/v1/'"
   ]
  },
  {
   "cell_type": "code",
   "execution_count": 26,
   "metadata": {},
   "outputs": [],
   "source": [
    "track_id = '1YDebgap5OFwXEBG18NJvy'"
   ]
  },
  {
   "cell_type": "code",
   "execution_count": 31,
   "metadata": {},
   "outputs": [],
   "source": [
    "#do a GET request. Specify the url & the header\n",
    "r = requests.get(BASE_URL + 'audio-features/' + track_id, headers = headers)"
   ]
  },
  {
   "cell_type": "code",
   "execution_count": 32,
   "metadata": {},
   "outputs": [],
   "source": [
    "#Whatever is returned is in the JSON format\n",
    "r = r.json()"
   ]
  },
  {
   "cell_type": "code",
   "execution_count": 33,
   "metadata": {},
   "outputs": [
    {
     "data": {
      "text/plain": [
       "{'acousticness': 0.129,\n",
       " 'analysis_url': 'https://api.spotify.com/v1/audio-analysis/1YDebgap5OFwXEBG18NJvy',\n",
       " 'danceability': 0.933,\n",
       " 'duration_ms': 159083,\n",
       " 'energy': 0.656,\n",
       " 'id': '1YDebgap5OFwXEBG18NJvy',\n",
       " 'instrumentalness': 0,\n",
       " 'key': 2,\n",
       " 'liveness': 0.161,\n",
       " 'loudness': -5.85,\n",
       " 'mode': 1,\n",
       " 'speechiness': 0.322,\n",
       " 'tempo': 119.987,\n",
       " 'time_signature': 4,\n",
       " 'track_href': 'https://api.spotify.com/v1/tracks/1YDebgap5OFwXEBG18NJvy',\n",
       " 'type': 'audio_features',\n",
       " 'uri': 'spotify:track:1YDebgap5OFwXEBG18NJvy',\n",
       " 'valence': 0.934}"
      ]
     },
     "execution_count": 33,
     "metadata": {},
     "output_type": "execute_result"
    }
   ],
   "source": [
    "r"
   ]
  },
  {
   "cell_type": "code",
   "execution_count": null,
   "metadata": {},
   "outputs": [],
   "source": []
  }
 ],
 "metadata": {
  "kernelspec": {
   "display_name": "Python 3",
   "language": "python",
   "name": "python3"
  },
  "language_info": {
   "codemirror_mode": {
    "name": "ipython",
    "version": 3
   },
   "file_extension": ".py",
   "mimetype": "text/x-python",
   "name": "python",
   "nbconvert_exporter": "python",
   "pygments_lexer": "ipython3",
   "version": "3.6.9"
  }
 },
 "nbformat": 4,
 "nbformat_minor": 2
}
