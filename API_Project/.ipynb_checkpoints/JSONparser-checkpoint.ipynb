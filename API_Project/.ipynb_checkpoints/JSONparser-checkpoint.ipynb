{
 "cells": [
  {
   "cell_type": "code",
   "execution_count": 1,
   "metadata": {},
   "outputs": [],
   "source": [
    "import json"
   ]
  },
  {
   "cell_type": "code",
   "execution_count": 3,
   "metadata": {},
   "outputs": [
    {
     "name": "stdout",
     "output_type": "stream",
     "text": [
      "JSON File Reading Started\n",
      "Let's parse this JSON file to a Python Dict.\n"
     ]
    }
   ],
   "source": [
    "print(\"JSON File Reading Started\")\n",
    "with open(\"youtube.json\", \"r\") as read_file:\n",
    "    print(\"Let's parse this JSON file to a Python Dict.\")\n",
    "    developer = json.load(read_file)\n",
    "    print(\"Decoded JSON Data\")\n",
    "    \n",
    "    #Now I ca"
   ]
  },
  {
   "cell_type": "code",
   "execution_count": 4,
   "metadata": {},
   "outputs": [
    {
     "data": {
      "text/plain": [
       "{'etag': '\"m2yskBQFythfE4irbTIeOgYYfBU/PaiEDiVxOyCWelLPuuwa9LKz3Gk\"',\n",
       " 'items': [{'etag': '\"m2yskBQFythfE4irbTIeOgYYfBU/QpOIr3QKlV5EUlzfFcVvDiJT0hw\"',\n",
       "   'id': {'channelId': 'UCJowOS1R0FnhipXVqEnYU1A', 'kind': 'youtube#channel'},\n",
       "   'kind': 'youtube#searchResult'},\n",
       "  {'etag': '\"m2yskBQFythfE4irbTIeOgYYfBU/AWutzVOt_5p1iLVifyBdfoSTf9E\"',\n",
       "   'id': {'kind': 'youtube#video', 'videoId': 'Eqa2nAAhHN0'},\n",
       "   'kind': 'youtube#searchResult'},\n",
       "  {'etag': '\"m2yskBQFythfE4irbTIeOgYYfBU/2dIR9BTfr7QphpBuY3hPU-h5u-4\"',\n",
       "   'id': {'kind': 'youtube#video', 'videoId': 'IirngItQuVs'},\n",
       "   'kind': 'youtube#searchResult'}],\n",
       " 'kind': 'youtube#searchListResponse',\n",
       " 'nextPageToken': 'CAUQAA',\n",
       " 'pageInfo': {'resultsPerPage': 5, 'totalResults': 4249},\n",
       " 'regionCode': 'KE'}"
      ]
     },
     "execution_count": 4,
     "metadata": {},
     "output_type": "execute_result"
    }
   ],
   "source": [
    "developer"
   ]
  },
  {
   "cell_type": "code",
   "execution_count": null,
   "metadata": {},
   "outputs": [],
   "source": []
  }
 ],
 "metadata": {
  "kernelspec": {
   "display_name": "Python 3",
   "language": "python",
   "name": "python3"
  },
  "language_info": {
   "codemirror_mode": {
    "name": "ipython",
    "version": 3
   },
   "file_extension": ".py",
   "mimetype": "text/x-python",
   "name": "python",
   "nbconvert_exporter": "python",
   "pygments_lexer": "ipython3",
   "version": "3.6.9"
  }
 },
 "nbformat": 4,
 "nbformat_minor": 2
}
