{
 "cells": [
  {
   "cell_type": "code",
   "execution_count": 9,
   "metadata": {},
   "outputs": [],
   "source": [
    "import json"
   ]
  },
  {
   "cell_type": "code",
   "execution_count": 10,
   "metadata": {},
   "outputs": [
    {
     "name": "stdout",
     "output_type": "stream",
     "text": [
      "JSON File Reading Started\n",
      "Let's parse this JSON file to a Python Dict.\n",
      "Decoded JSON Data\n",
      "kind : youtube#searchListResponse\n",
      "etag : \"m2yskBQFythfE4irbTIeOgYYfBU/PaiEDiVxOyCWelLPuuwa9LKz3Gk\"\n",
      "nextPageToken : CAUQAA\n",
      "regionCode : KE\n",
      "pageInfo : {'totalResults': 4249, 'resultsPerPage': 5}\n",
      "items : [{'kind': 'youtube#searchResult', 'etag': '\"m2yskBQFythfE4irbTIeOgYYfBU/QpOIr3QKlV5EUlzfFcVvDiJT0hw\"', 'id': {'kind': 'youtube#channel', 'channelId': 'UCJowOS1R0FnhipXVqEnYU1A'}}, {'kind': 'youtube#searchResult', 'etag': '\"m2yskBQFythfE4irbTIeOgYYfBU/AWutzVOt_5p1iLVifyBdfoSTf9E\"', 'id': {'kind': 'youtube#video', 'videoId': 'Eqa2nAAhHN0'}}, {'kind': 'youtube#searchResult', 'etag': '\"m2yskBQFythfE4irbTIeOgYYfBU/2dIR9BTfr7QphpBuY3hPU-h5u-4\"', 'id': {'kind': 'youtube#video', 'videoId': 'IirngItQuVs'}}]\n",
      "Done with the JSON File\n"
     ]
    }
   ],
   "source": [
    "print(\"JSON File Reading Started\")\n",
    "with open(\"youtube.json\", \"r\") as read_file:\n",
    "    print(\"Let's parse this JSON file to a Python Dict.\")\n",
    "    developer = json.load(read_file)\n",
    "    print(\"Decoded JSON Data\")\n",
    "    \n",
    "    #Now I can use a loop to look at what's inside the data structure\n",
    "    for key, value in developer.items():\n",
    "        print(key, \":\", value)\n",
    "    print(\"Done with the JSON File\")"
   ]
  },
  {
   "cell_type": "code",
   "execution_count": 26,
   "metadata": {},
   "outputs": [
    {
     "name": "stdout",
     "output_type": "stream",
     "text": [
      "CAUQAA\n"
     ]
    }
   ],
   "source": [
    "print(developer[\"nextPageToken\"])"
   ]
  },
  {
   "cell_type": "code",
   "execution_count": 27,
   "metadata": {},
   "outputs": [
    {
     "name": "stdout",
     "output_type": "stream",
     "text": [
      "KE\n"
     ]
    }
   ],
   "source": [
    "print(developer[\"regionCode\"])"
   ]
  },
  {
   "cell_type": "code",
   "execution_count": 47,
   "metadata": {},
   "outputs": [],
   "source": [
    "developerString = developer[\"items\"]"
   ]
  },
  {
   "cell_type": "code",
   "execution_count": 48,
   "metadata": {},
   "outputs": [
    {
     "data": {
      "text/plain": [
       "[{'etag': '\"m2yskBQFythfE4irbTIeOgYYfBU/QpOIr3QKlV5EUlzfFcVvDiJT0hw\"',\n",
       "  'id': {'channelId': 'UCJowOS1R0FnhipXVqEnYU1A', 'kind': 'youtube#channel'},\n",
       "  'kind': 'youtube#searchResult'},\n",
       " {'etag': '\"m2yskBQFythfE4irbTIeOgYYfBU/AWutzVOt_5p1iLVifyBdfoSTf9E\"',\n",
       "  'id': {'kind': 'youtube#video', 'videoId': 'Eqa2nAAhHN0'},\n",
       "  'kind': 'youtube#searchResult'},\n",
       " {'etag': '\"m2yskBQFythfE4irbTIeOgYYfBU/2dIR9BTfr7QphpBuY3hPU-h5u-4\"',\n",
       "  'id': {'kind': 'youtube#video', 'videoId': 'IirngItQuVs'},\n",
       "  'kind': 'youtube#searchResult'}]"
      ]
     },
     "execution_count": 48,
     "metadata": {},
     "output_type": "execute_result"
    }
   ],
   "source": [
    "developerString"
   ]
  },
  {
   "cell_type": "code",
   "execution_count": 76,
   "metadata": {},
   "outputs": [
    {
     "name": "stdout",
     "output_type": "stream",
     "text": [
      "{'kind': 'youtube#searchResult', 'etag': '\"m2yskBQFythfE4irbTIeOgYYfBU/QpOIr3QKlV5EUlzfFcVvDiJT0hw\"', 'id': {'kind': 'youtube#channel', 'channelId': 'UCJowOS1R0FnhipXVqEnYU1A'}}\n",
      "{'kind': 'youtube#searchResult', 'etag': '\"m2yskBQFythfE4irbTIeOgYYfBU/AWutzVOt_5p1iLVifyBdfoSTf9E\"', 'id': {'kind': 'youtube#video', 'videoId': 'Eqa2nAAhHN0'}}\n",
      "{'kind': 'youtube#searchResult', 'etag': '\"m2yskBQFythfE4irbTIeOgYYfBU/2dIR9BTfr7QphpBuY3hPU-h5u-4\"', 'id': {'kind': 'youtube#video', 'videoId': 'IirngItQuVs'}}\n"
     ]
    }
   ],
   "source": [
    "for item in developer[\"items\"]:\n",
    "    print(item)"
   ]
  },
  {
   "cell_type": "code",
   "execution_count": 81,
   "metadata": {},
   "outputs": [
    {
     "name": "stdout",
     "output_type": "stream",
     "text": [
      "kind : youtube#searchResult\n",
      "etag : \"m2yskBQFythfE4irbTIeOgYYfBU/QpOIr3QKlV5EUlzfFcVvDiJT0hw\"\n",
      "id : {'kind': 'youtube#channel', 'channelId': 'UCJowOS1R0FnhipXVqEnYU1A'}\n",
      "kind : youtube#searchResult\n",
      "etag : \"m2yskBQFythfE4irbTIeOgYYfBU/AWutzVOt_5p1iLVifyBdfoSTf9E\"\n",
      "id : {'kind': 'youtube#video', 'videoId': 'Eqa2nAAhHN0'}\n",
      "kind : youtube#searchResult\n",
      "etag : \"m2yskBQFythfE4irbTIeOgYYfBU/2dIR9BTfr7QphpBuY3hPU-h5u-4\"\n",
      "id : {'kind': 'youtube#video', 'videoId': 'IirngItQuVs'}\n"
     ]
    }
   ],
   "source": [
    "for item in developer[\"items\"]:\n",
    "    for key in item:\n",
    "        print(key, \":\", item[key])"
   ]
  },
  {
   "cell_type": "code",
   "execution_count": 93,
   "metadata": {},
   "outputs": [
    {
     "name": "stdout",
     "output_type": "stream",
     "text": [
      "kind : youtube#searchResult\n",
      "etag : \"m2yskBQFythfE4irbTIeOgYYfBU/QpOIr3QKlV5EUlzfFcVvDiJT0hw\"\n",
      "id :\n",
      "  - kind : youtube#channel\n",
      "  - channelId : UCJowOS1R0FnhipXVqEnYU1A\n",
      "kind : youtube#searchResult\n",
      "etag : \"m2yskBQFythfE4irbTIeOgYYfBU/AWutzVOt_5p1iLVifyBdfoSTf9E\"\n",
      "id :\n",
      "  - kind : youtube#video\n",
      "  - videoId : Eqa2nAAhHN0\n",
      "kind : youtube#searchResult\n",
      "etag : \"m2yskBQFythfE4irbTIeOgYYfBU/2dIR9BTfr7QphpBuY3hPU-h5u-4\"\n",
      "id :\n",
      "  - kind : youtube#video\n",
      "  - videoId : IirngItQuVs\n"
     ]
    }
   ],
   "source": [
    "for item in developer[\"items\"]:\n",
    "    for key in item:\n",
    "        if key == \"id\":\n",
    "            print(key, \":\")\n",
    "            for idKey in item[key]:\n",
    "                print('  -', idKey, \":\", item[key][idKey])\n",
    "        else:\n",
    "            print(key, \":\", item[key])\n",
    "        "
   ]
  },
  {
   "cell_type": "code",
   "execution_count": null,
   "metadata": {},
   "outputs": [],
   "source": []
  },
  {
   "cell_type": "code",
   "execution_count": 98,
   "metadata": {},
   "outputs": [],
   "source": [
    "from collections import namedtuple\n",
    "from json import JSONEncoder\n",
    "\n",
    "def movieJsonDecode(movieDict):\n",
    "    return namedtuple('X', movieDict.keys())(*movieDict.values())\n",
    "\n",
    "class Movie:\n",
    "    def __init__(self, name, year, income):\n",
    "        self.name = name\n",
    "        self.year = year\n",
    "        self.income = income"
   ]
  },
  {
   "cell_type": "code",
   "execution_count": 99,
   "metadata": {},
   "outputs": [],
   "source": [
    "movieJson = \"\"\"{\n",
    "    \"name\": \"Jurassic Park\",\n",
    "    \"year\": 1998,\n",
    "    \"income\": 800000\n",
    "}\n",
    "\n",
    "\"\"\""
   ]
  },
  {
   "cell_type": "code",
   "execution_count": 96,
   "metadata": {},
   "outputs": [
    {
     "data": {
      "text/plain": [
       "'{\\n    \"name\": \"Jurassic Park\",\\n    \"year\": 1998,\\n    \"income\": 800000\\n}\\n\\n'"
      ]
     },
     "execution_count": 96,
     "metadata": {},
     "output_type": "execute_result"
    }
   ],
   "source": [
    "#How lest take this movie object and parse it"
   ]
  },
  {
   "cell_type": "code",
   "execution_count": 102,
   "metadata": {},
   "outputs": [
    {
     "name": "stdout",
     "output_type": "stream",
     "text": [
      "Jurassic Park\n",
      "1998\n",
      "800000\n"
     ]
    }
   ],
   "source": [
    "#Parse JSON into a movie object loads cuz its a string\n",
    "movieObj = json.loads(movieJson, object_hook=movieJsonDecode)\n",
    "print(movieObj.name)\n",
    "print(movieObj.year)\n",
    "print(movieObj.income)"
   ]
  },
  {
   "cell_type": "code",
   "execution_count": null,
   "metadata": {},
   "outputs": [],
   "source": []
  }
 ],
 "metadata": {
  "kernelspec": {
   "display_name": "Python 3",
   "language": "python",
   "name": "python3"
  },
  "language_info": {
   "codemirror_mode": {
    "name": "ipython",
    "version": 3
   },
   "file_extension": ".py",
   "mimetype": "text/x-python",
   "name": "python",
   "nbconvert_exporter": "python",
   "pygments_lexer": "ipython3",
   "version": "3.6.9"
  }
 },
 "nbformat": 4,
 "nbformat_minor": 2
}
