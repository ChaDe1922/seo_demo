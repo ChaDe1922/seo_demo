{
 "cells": [
  {
   "cell_type": "code",
   "execution_count": 64,
   "metadata": {},
   "outputs": [],
   "source": [
    "#Import for data visualization\n",
    "import pandas as pd\n",
    "import matplotlib.pyplot as plt\n",
    "import numpy as np\n",
    "\n",
    "#Import API Requirements\n",
    "import requests\n",
    "import spotipy\n",
    "\n",
    "#Import JSON\n",
    "import json\n",
    "\n",
    "#import SQL\n",
    "import sqlalchemy\n",
    "from sqlalchemy import create_engine"
   ]
  },
  {
   "cell_type": "code",
   "execution_count": 2,
   "metadata": {},
   "outputs": [],
   "source": [
    "#Authentication variables\n",
    "CLIENT_ID = '744aee4ee39a4b6787e645452d1d36b4'\n",
    "CLIENT_SECRET = '7b72ec76041d4818b061e91ce613d780'"
   ]
  },
  {
   "cell_type": "code",
   "execution_count": 3,
   "metadata": {},
   "outputs": [],
   "source": [
    "#Authenticate myself with a post request including the url and my creds\n",
    "AUTH_URL = 'https://accounts.spotify.com/api/token'\n",
    "auth_response = requests.post(AUTH_URL, {\n",
    "    'grant_type': 'client_credentials',\n",
    "    'client_id': CLIENT_ID,\n",
    "    'client_secret': CLIENT_SECRET,\n",
    "})"
   ]
  },
  {
   "cell_type": "code",
   "execution_count": 4,
   "metadata": {},
   "outputs": [
    {
     "name": "stdout",
     "output_type": "stream",
     "text": [
      "200\n"
     ]
    }
   ],
   "source": [
    "#Print the response to my request\n",
    "print(auth_response.status_code)"
   ]
  },
  {
   "cell_type": "code",
   "execution_count": 5,
   "metadata": {},
   "outputs": [],
   "source": [
    "#convert the response, \"auth_response\" to json using .json()\n",
    "auth_response_data = auth_response.json()"
   ]
  },
  {
   "cell_type": "code",
   "execution_count": 7,
   "metadata": {},
   "outputs": [],
   "source": [
    "#pull the access token from the response and save it in a variable \"access_token\"\n",
    "access_token = auth_response_data['access_token']"
   ]
  },
  {
   "cell_type": "code",
   "execution_count": 8,
   "metadata": {},
   "outputs": [],
   "source": [
    "#save the token to the API to use in my GET request headers\n",
    "headers = {\n",
    "    'Authorization': 'Bearer {token}'.format(token=access_token)\n",
    "}"
   ]
  },
  {
   "cell_type": "code",
   "execution_count": 9,
   "metadata": {},
   "outputs": [],
   "source": [
    "#Access endpoints base URL for spotify\n",
    "BASE_URL = 'https://api.spotify.com/v1/'"
   ]
  },
  {
   "cell_type": "code",
   "execution_count": 10,
   "metadata": {},
   "outputs": [],
   "source": [
    "#Variables for artist data I want to collect, artist-ids\n",
    "lil_baby = '5f7VJjfbwm532GiveGC0ZK'\n",
    "drake = '3TVXtAsR1Inumwj472S9r4'\n",
    "lil_uzi_vert = '4O15NlyKLIASxsJ0PrXPfz'"
   ]
  },
  {
   "cell_type": "code",
   "execution_count": 11,
   "metadata": {},
   "outputs": [],
   "source": [
    "#do a GET request. Specify the url & the headers set for authentication\n",
    "#you can input parameters (params=) as to what limits you want on the json file that will be returned to you\n",
    "r = requests.get(BASE_URL + 'artists?ids=' + lil_baby + \",\" + drake + \",\" + lil_uzi_vert, headers = headers)"
   ]
  },
  {
   "cell_type": "code",
   "execution_count": 101,
   "metadata": {},
   "outputs": [
    {
     "data": {
      "text/plain": [
       "{'artists': [{'external_urls': {'spotify': 'https://open.spotify.com/artist/5f7VJjfbwm532GiveGC0ZK'},\n",
       "   'followers': {'href': None, 'total': 7567982},\n",
       "   'genres': ['atl hip hop', 'atl trap', 'rap', 'trap'],\n",
       "   'href': 'https://api.spotify.com/v1/artists/5f7VJjfbwm532GiveGC0ZK',\n",
       "   'id': '5f7VJjfbwm532GiveGC0ZK',\n",
       "   'images': [{'height': 640,\n",
       "     'url': 'https://i.scdn.co/image/ab6761610000e5eb2161ef3bab0e5e922a1c297d',\n",
       "     'width': 640},\n",
       "    {'height': 320,\n",
       "     'url': 'https://i.scdn.co/image/ab676161000051742161ef3bab0e5e922a1c297d',\n",
       "     'width': 320},\n",
       "    {'height': 160,\n",
       "     'url': 'https://i.scdn.co/image/ab6761610000f1782161ef3bab0e5e922a1c297d',\n",
       "     'width': 160}],\n",
       "   'name': 'Lil Baby',\n",
       "   'popularity': 95,\n",
       "   'type': 'artist',\n",
       "   'uri': 'spotify:artist:5f7VJjfbwm532GiveGC0ZK'},\n",
       "  {'external_urls': {'spotify': 'https://open.spotify.com/artist/3TVXtAsR1Inumwj472S9r4'},\n",
       "   'followers': {'href': None, 'total': 55780066},\n",
       "   'genres': ['canadian hip hop',\n",
       "    'canadian pop',\n",
       "    'hip hop',\n",
       "    'pop rap',\n",
       "    'rap',\n",
       "    'toronto rap'],\n",
       "   'href': 'https://api.spotify.com/v1/artists/3TVXtAsR1Inumwj472S9r4',\n",
       "   'id': '3TVXtAsR1Inumwj472S9r4',\n",
       "   'images': [{'height': 640,\n",
       "     'url': 'https://i.scdn.co/image/ab6761610000e5eb9d6c72d285ab349ce7a93529',\n",
       "     'width': 640},\n",
       "    {'height': 320,\n",
       "     'url': 'https://i.scdn.co/image/ab676161000051749d6c72d285ab349ce7a93529',\n",
       "     'width': 320},\n",
       "    {'height': 160,\n",
       "     'url': 'https://i.scdn.co/image/ab6761610000f1789d6c72d285ab349ce7a93529',\n",
       "     'width': 160}],\n",
       "   'name': 'Drake',\n",
       "   'popularity': 98,\n",
       "   'type': 'artist',\n",
       "   'uri': 'spotify:artist:3TVXtAsR1Inumwj472S9r4'},\n",
       "  {'external_urls': {'spotify': 'https://open.spotify.com/artist/4O15NlyKLIASxsJ0PrXPfz'},\n",
       "   'followers': {'href': None, 'total': 11684670},\n",
       "   'genres': ['melodic rap', 'philly rap', 'rap', 'trap'],\n",
       "   'href': 'https://api.spotify.com/v1/artists/4O15NlyKLIASxsJ0PrXPfz',\n",
       "   'id': '4O15NlyKLIASxsJ0PrXPfz',\n",
       "   'images': [{'height': 640,\n",
       "     'url': 'https://i.scdn.co/image/ab6761610000e5eb9cc6d44767dda18ee4e1be9f',\n",
       "     'width': 640},\n",
       "    {'height': 320,\n",
       "     'url': 'https://i.scdn.co/image/ab676161000051749cc6d44767dda18ee4e1be9f',\n",
       "     'width': 320},\n",
       "    {'height': 160,\n",
       "     'url': 'https://i.scdn.co/image/ab6761610000f1789cc6d44767dda18ee4e1be9f',\n",
       "     'width': 160}],\n",
       "   'name': 'Lil Uzi Vert',\n",
       "   'popularity': 91,\n",
       "   'type': 'artist',\n",
       "   'uri': 'spotify:artist:4O15NlyKLIASxsJ0PrXPfz'}]}"
      ]
     },
     "execution_count": 101,
     "metadata": {},
     "output_type": "execute_result"
    }
   ],
   "source": [
    "#convert whatever is returned into JSON\n",
    "d = r.json()\n",
    "\n",
    "\n",
    "d"
   ]
  },
  {
   "cell_type": "code",
   "execution_count": 102,
   "metadata": {},
   "outputs": [
    {
     "ename": "SyntaxError",
     "evalue": "invalid syntax (<ipython-input-102-993a20c2eb59>, line 2)",
     "output_type": "error",
     "traceback": [
      "\u001b[0;36m  File \u001b[0;32m\"<ipython-input-102-993a20c2eb59>\"\u001b[0;36m, line \u001b[0;32m2\u001b[0m\n\u001b[0;31m    for print artist\u001b[0m\n\u001b[0m                   ^\u001b[0m\n\u001b[0;31mSyntaxError\u001b[0m\u001b[0;31m:\u001b[0m invalid syntax\n"
     ]
    }
   ],
   "source": [
    "for artist in d['artists']:\n",
    "    for key in artist:\n",
    "        print(key)\n",
    "    "
   ]
  },
  {
   "cell_type": "code",
   "execution_count": 53,
   "metadata": {},
   "outputs": [
    {
     "name": "stdout",
     "output_type": "stream",
     "text": [
      "Artist: Lil Baby\n",
      "Popularity: 95\n",
      "Genres: ['atl hip hop', 'atl trap', 'rap', 'trap']\n",
      "Followers: 7567982\n",
      "-----\n",
      "Artist: Drake\n",
      "Popularity: 98\n",
      "Genres: ['canadian hip hop', 'canadian pop', 'hip hop', 'pop rap', 'rap', 'toronto rap']\n",
      "Followers: 55780066\n",
      "-----\n",
      "Artist: Lil Uzi Vert\n",
      "Popularity: 91\n",
      "Genres: ['melodic rap', 'philly rap', 'rap', 'trap']\n",
      "Followers: 11684670\n",
      "-----\n"
     ]
    }
   ],
   "source": [
    "for artist in d['artists']:\n",
    "    print(\"Artist:\", artist['name'])\n",
    "    print(\"Popularity:\",artist['popularity'])\n",
    "    print(\"Genres:\", artist['genres'])\n",
    "    for key in artist['followers']:\n",
    "        if key == \"total\":\n",
    "            print(\"Followers:\", artist['followers'][key])\n",
    "    print(\"-----\")"
   ]
  },
  {
   "cell_type": "code",
   "execution_count": 49,
   "metadata": {},
   "outputs": [],
   "source": [
    "followers = []\n",
    "rappers = []\n",
    "popularity = []"
   ]
  },
  {
   "cell_type": "code",
   "execution_count": 50,
   "metadata": {},
   "outputs": [
    {
     "name": "stdout",
     "output_type": "stream",
     "text": [
      "['Lil Baby', 'Drake', 'Lil Uzi Vert']\n",
      "[95, 98, 91]\n",
      "[7567982, 55780066, 11684670]\n"
     ]
    }
   ],
   "source": [
    "for artist in d['artists']:\n",
    "    rappers.append(artist['name'])\n",
    "    popularity.append(artist['popularity'])\n",
    "    for key in artist['followers']:\n",
    "        if key == 'total':\n",
    "            followers.append(artist['followers'][key])\n",
    "            \n",
    "print(rappers)\n",
    "print(popularity)\n",
    "print(followers)"
   ]
  },
  {
   "cell_type": "code",
   "execution_count": 52,
   "metadata": {},
   "outputs": [
    {
     "data": {
      "text/plain": [
       "<BarContainer object of 3 artists>"
      ]
     },
     "execution_count": 52,
     "metadata": {},
     "output_type": "execute_result"
    },
    {
     "data": {
      "image/png": "[encoded data removed]",
      "text/plain": [
       "<Figure size 432x288 with 1 Axes>"
      ]
     },
     "metadata": {
      "needs_background": "light"
     },
     "output_type": "display_data"
    }
   ],
   "source": [
    "plt.bar(rappers, followers)"
   ]
  },
  {
   "cell_type": "code",
   "execution_count": 58,
   "metadata": {},
   "outputs": [
    {
     "data": {
      "text/plain": [
       "dict"
      ]
     },
     "execution_count": 58,
     "metadata": {},
     "output_type": "execute_result"
    }
   ],
   "source": [
    "type(d)"
   ]
  },
  {
   "cell_type": "code",
   "execution_count": 174,
   "metadata": {},
   "outputs": [
    {
     "data": {
      "text/html": [
       "<div>\n",
       "<style scoped>\n",
       "    .dataframe tbody tr th:only-of-type {\n",
       "        vertical-align: middle;\n",
       "    }\n",
       "\n",
       "    .dataframe tbody tr th {\n",
       "        vertical-align: top;\n",
       "    }\n",
       "\n",
       "    .dataframe thead th {\n",
       "        text-align: right;\n",
       "    }\n",
       "</style>\n",
       "<table border=\"1\" class=\"dataframe\">\n",
       "  <thead>\n",
       "    <tr style=\"text-align: right;\">\n",
       "      <th></th>\n",
       "      <th>Name</th>\n",
       "      <th>Genres</th>\n",
       "      <th>Popularity</th>\n",
       "      <th>Followers</th>\n",
       "    </tr>\n",
       "  </thead>\n",
       "  <tbody>\n",
       "    <tr>\n",
       "      <th>0</th>\n",
       "      <td>Lil Baby</td>\n",
       "      <td>[atl hip hop, atl trap]</td>\n",
       "      <td>95</td>\n",
       "      <td>7567982</td>\n",
       "    </tr>\n",
       "    <tr>\n",
       "      <th>1</th>\n",
       "      <td>Drake</td>\n",
       "      <td>[canadian hip hop, canadian pop]</td>\n",
       "      <td>98</td>\n",
       "      <td>55780066</td>\n",
       "    </tr>\n",
       "    <tr>\n",
       "      <th>2</th>\n",
       "      <td>Lil Uzi Vert</td>\n",
       "      <td>[melodic rap, philly rap]</td>\n",
       "      <td>91</td>\n",
       "      <td>11684670</td>\n",
       "    </tr>\n",
       "  </tbody>\n",
       "</table>\n",
       "</div>"
      ],
      "text/plain": [
       "           Name                            Genres  Popularity  Followers\n",
       "0      Lil Baby           [atl hip hop, atl trap]          95    7567982\n",
       "1         Drake  [canadian hip hop, canadian pop]          98   55780066\n",
       "2  Lil Uzi Vert         [melodic rap, philly rap]          91   11684670"
      ]
     },
     "execution_count": 174,
     "metadata": {},
     "output_type": "execute_result"
    }
   ],
   "source": [
    "rows=[]\n",
    "for artist in d['artists']:\n",
    "    artistData = []\n",
    "    artistData.append(artist['name'])\n",
    "    artistData.append(artist['genres'][0:2])\n",
    "    artistData.append(artist['popularity'])\n",
    "    for key in artist['followers']:\n",
    "        if key == 'total':\n",
    "            artistData.append(artist['followers'][key])\n",
    "    rows.append(artistData)\n",
    "    \n",
    "pd.DataFrame(rows, columns=['Name', 'Genres', 'Popularity', 'Followers']).head()"
   ]
  },
  {
   "cell_type": "code",
   "execution_count": 160,
   "metadata": {},
   "outputs": [],
   "source": []
  },
  {
   "cell_type": "code",
   "execution_count": null,
   "metadata": {},
   "outputs": [],
   "source": []
  },
  {
   "cell_type": "code",
   "execution_count": null,
   "metadata": {},
   "outputs": [],
   "source": []
  },
  {
   "cell_type": "code",
   "execution_count": null,
   "metadata": {},
   "outputs": [],
   "source": []
  },
  {
   "cell_type": "code",
   "execution_count": null,
   "metadata": {},
   "outputs": [],
   "source": []
  }
 ],
 "metadata": {
  "kernelspec": {
   "display_name": "Python 3",
   "language": "python",
   "name": "python3"
  },
  "language_info": {
   "codemirror_mode": {
    "name": "ipython",
    "version": 3
   },
   "file_extension": ".py",
   "mimetype": "text/x-python",
   "name": "python",
   "nbconvert_exporter": "python",
   "pygments_lexer": "ipython3",
   "version": "3.6.9"
  }
 },
 "nbformat": 4,
 "nbformat_minor": 2
}
