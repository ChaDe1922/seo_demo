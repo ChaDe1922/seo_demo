{
 "cells": [
  {
   "cell_type": "code",
   "execution_count": 349,
   "metadata": {},
   "outputs": [],
   "source": [
    "#Import for data visualization\n",
    "import pandas as pd\n",
    "import matplotlib.pyplot as plt\n",
    "import numpy as np\n",
    "\n",
    "#Import API Requirements\n",
    "import requests\n",
    "import spotipy\n",
    "\n",
    "#Import JSON\n",
    "import json\n",
    "\n",
    "#import SQL\n",
    "import sqlalchemy\n",
    "from sqlalchemy import create_engine"
   ]
  },
  {
   "cell_type": "code",
   "execution_count": 350,
   "metadata": {},
   "outputs": [],
   "source": [
    "#Authentication variables\n",
    "CLIENT_ID = '744aee4ee39a4b6787e645452d1d36b4'\n",
    "CLIENT_SECRET = '7b72ec76041d4818b061e91ce613d780'"
   ]
  },
  {
   "cell_type": "code",
   "execution_count": 351,
   "metadata": {},
   "outputs": [],
   "source": [
    "#Authenticate myself with a post request including the url and my creds\n",
    "AUTH_URL = 'https://accounts.spotify.com/api/token'\n",
    "auth_response = requests.post(AUTH_URL, {\n",
    "    'grant_type': 'client_credentials',\n",
    "    'client_id': CLIENT_ID,\n",
    "    'client_secret': CLIENT_SECRET,\n",
    "})"
   ]
  },
  {
   "cell_type": "code",
   "execution_count": 352,
   "metadata": {},
   "outputs": [
    {
     "name": "stdout",
     "output_type": "stream",
     "text": [
      "200\n"
     ]
    }
   ],
   "source": [
    "#Print the response to my request\n",
    "print(auth_response.status_code)"
   ]
  },
  {
   "cell_type": "code",
   "execution_count": 353,
   "metadata": {},
   "outputs": [],
   "source": [
    "#convert the response, \"auth_response\" to json using .json()\n",
    "auth_response_data = auth_response.json()"
   ]
  },
  {
   "cell_type": "code",
   "execution_count": 354,
   "metadata": {},
   "outputs": [],
   "source": [
    "#pull the access token from the response and save it in a variable \"access_token\"\n",
    "access_token = auth_response_data['access_token']"
   ]
  },
  {
   "cell_type": "code",
   "execution_count": 355,
   "metadata": {},
   "outputs": [],
   "source": [
    "#save the token to the API to use in my GET request headers\n",
    "headers = {\n",
    "    'Authorization': 'Bearer {token}'.format(token=access_token)\n",
    "}"
   ]
  },
  {
   "cell_type": "code",
   "execution_count": 356,
   "metadata": {},
   "outputs": [],
   "source": [
    "#Access endpoints base URL for spotify\n",
    "BASE_URL = 'https://api.spotify.com/v1/'"
   ]
  },
  {
   "cell_type": "code",
   "execution_count": 357,
   "metadata": {},
   "outputs": [
    {
     "name": "stdout",
     "output_type": "stream",
     "text": [
      "Enter up to 5 artists(Separated by commas): Drake, Migos\n"
     ]
    }
   ],
   "source": [
    "#Variables for artist data I want to collect, artist-ids\n",
    "lil_baby = '5f7VJjfbwm532GiveGC0ZK'\n",
    "drake = '3TVXtAsR1Inumwj472S9r4'\n",
    "lil_uzi_vert = '4O15NlyKLIASxsJ0PrXPfz'\n",
    "\n",
    "desArtistStr = (input(\"Enter up to 5 artists(Separated by commas): \"))"
   ]
  },
  {
   "cell_type": "code",
   "execution_count": 358,
   "metadata": {},
   "outputs": [],
   "source": [
    "desArtistList = desArtistStr.split (\", \")"
   ]
  },
  {
   "cell_type": "code",
   "execution_count": 359,
   "metadata": {},
   "outputs": [
    {
     "data": {
      "text/plain": [
       "'Drake'"
      ]
     },
     "execution_count": 359,
     "metadata": {},
     "output_type": "execute_result"
    }
   ],
   "source": [
    "desArtistList[0]"
   ]
  },
  {
   "cell_type": "code",
   "execution_count": 360,
   "metadata": {},
   "outputs": [
    {
     "name": "stdout",
     "output_type": "stream",
     "text": [
      "Drake request\n",
      "200\n",
      "Migos request\n",
      "200\n"
     ]
    },
    {
     "data": {
      "text/html": [
       "<div>\n",
       "<style scoped>\n",
       "    .dataframe tbody tr th:only-of-type {\n",
       "        vertical-align: middle;\n",
       "    }\n",
       "\n",
       "    .dataframe tbody tr th {\n",
       "        vertical-align: top;\n",
       "    }\n",
       "\n",
       "    .dataframe thead th {\n",
       "        text-align: right;\n",
       "    }\n",
       "</style>\n",
       "<table border=\"1\" class=\"dataframe\">\n",
       "  <thead>\n",
       "    <tr style=\"text-align: right;\">\n",
       "      <th></th>\n",
       "      <th>Name</th>\n",
       "      <th>Artist ID</th>\n",
       "      <th>Genre</th>\n",
       "      <th>Popularity</th>\n",
       "      <th>Followers</th>\n",
       "    </tr>\n",
       "  </thead>\n",
       "  <tbody>\n",
       "    <tr>\n",
       "      <th>0</th>\n",
       "      <td>Drake</td>\n",
       "      <td>3TVXtAsR1Inumwj472S9r4</td>\n",
       "      <td>canadian hip hop</td>\n",
       "      <td>98</td>\n",
       "      <td>55780066</td>\n",
       "    </tr>\n",
       "    <tr>\n",
       "      <th>1</th>\n",
       "      <td>Migos</td>\n",
       "      <td>6oMuImdp5ZcFhWP0ESe6mG</td>\n",
       "      <td>atl hip hop</td>\n",
       "      <td>89</td>\n",
       "      <td>11612669</td>\n",
       "    </tr>\n",
       "  </tbody>\n",
       "</table>\n",
       "</div>"
      ],
      "text/plain": [
       "    Name               Artist ID             Genre  Popularity  Followers\n",
       "0  Drake  3TVXtAsR1Inumwj472S9r4  canadian hip hop          98   55780066\n",
       "1  Migos  6oMuImdp5ZcFhWP0ESe6mG       atl hip hop          89   11612669"
      ]
     },
     "execution_count": 360,
     "metadata": {},
     "output_type": "execute_result"
    }
   ],
   "source": [
    "rows = []\n",
    "for entry in desArtistList:\n",
    "    print(entry, \"request\")\n",
    "    r = requests.get(BASE_URL + 'search?q=' + entry + '&type=artist&limit=1', headers = headers)\n",
    "    print(artIdReq.status_code)\n",
    "    d = r.json()\n",
    "    #print(d)\n",
    "    artistInfo = d['artists']\n",
    "    for item in artistInfo['items']:\n",
    "        artistName = item['name']\n",
    "        artistID = item['id']\n",
    "        #print(\"Artist ID for\", artistName, \":\", artistID)\n",
    "        \n",
    "        artistData = []\n",
    "        artistData.append(item['name'])\n",
    "        artistData.append(item['id'])\n",
    "        artistData.append(item['genres'][0])\n",
    "        artistData.append(item['popularity'])\n",
    "        for key in item['followers']:\n",
    "            if key == 'total':\n",
    "                artistData.append(item['followers'][key])\n",
    "        rows.append(artistData)\n",
    "\n",
    "pd.DataFrame(rows, columns=['Name','Artist ID', 'Genre', 'Popularity', 'Followers']).head()"
   ]
  },
  {
   "cell_type": "code",
   "execution_count": 279,
   "metadata": {},
   "outputs": [],
   "source": [
    "#do a GET request. Specify the url & the headers set for authentication\n",
    "#you can input parameters (params=) as to what limits you want on the json file that will be returned to you\n",
    "r = requests.get(BASE_URL + 'search?q=' + desArtist + '&type=artist&limit=1', headers = headers)\n",
    "\n"
   ]
  },
  {
   "cell_type": "code",
   "execution_count": 280,
   "metadata": {},
   "outputs": [
    {
     "data": {
      "text/plain": [
       "{'artists': {'href': 'https://api.spotify.com/v1/search?query=Beyonce&type=artist&offset=0&limit=1',\n",
       "  'items': [{'external_urls': {'spotify': 'https://open.spotify.com/artist/6vWDO969PvNqNYHIOW5v0m'},\n",
       "    'followers': {'href': None, 'total': 28031952},\n",
       "    'genres': ['dance pop', 'pop', 'post-teen pop', 'r&b'],\n",
       "    'href': 'https://api.spotify.com/v1/artists/6vWDO969PvNqNYHIOW5v0m',\n",
       "    'id': '6vWDO969PvNqNYHIOW5v0m',\n",
       "    'images': [{'height': 640,\n",
       "      'url': 'https://i.scdn.co/image/ab6761610000e5ebd3d058be8485c8583703b6d2',\n",
       "      'width': 640},\n",
       "     {'height': 320,\n",
       "      'url': 'https://i.scdn.co/image/ab67616100005174d3d058be8485c8583703b6d2',\n",
       "      'width': 320},\n",
       "     {'height': 160,\n",
       "      'url': 'https://i.scdn.co/image/ab6761610000f178d3d058be8485c8583703b6d2',\n",
       "      'width': 160}],\n",
       "    'name': 'Beyoncé',\n",
       "    'popularity': 88,\n",
       "    'type': 'artist',\n",
       "    'uri': 'spotify:artist:6vWDO969PvNqNYHIOW5v0m'}],\n",
       "  'limit': 1,\n",
       "  'next': 'https://api.spotify.com/v1/search?query=Beyonce&type=artist&offset=1&limit=1',\n",
       "  'offset': 0,\n",
       "  'previous': None,\n",
       "  'total': 26}}"
      ]
     },
     "execution_count": 280,
     "metadata": {},
     "output_type": "execute_result"
    }
   ],
   "source": [
    "#convert whatever is returned into JSON\n",
    "d = r.json()\n",
    "\n",
    "\n",
    "d"
   ]
  },
  {
   "cell_type": "code",
   "execution_count": 281,
   "metadata": {},
   "outputs": [
    {
     "name": "stdout",
     "output_type": "stream",
     "text": [
      "Artist ID for Beyoncé : 6vWDO969PvNqNYHIOW5v0m\n"
     ]
    }
   ],
   "source": [
    "#Get artist Key\n",
    "artistInfo = d['artists']\n",
    "for item in artistInfo['items']:\n",
    "    artistName = item['name']\n",
    "    artistID = item['id']\n",
    "    print(\"Artist ID for\", artistName, \":\", artistID)\n",
    "    #for key in item:\n",
    "        #if key == 'id':\n",
    "            #print(key, \":\", item[key])\n",
    "\n",
    "    "
   ]
  },
  {
   "cell_type": "code",
   "execution_count": 284,
   "metadata": {},
   "outputs": [],
   "source": [
    "#Get Artist Data\n",
    "artIdReq = requests.get(BASE_URL + 'artists/' + artistID, headers = headers)"
   ]
  },
  {
   "cell_type": "code",
   "execution_count": 285,
   "metadata": {},
   "outputs": [
    {
     "data": {
      "text/plain": [
       "200"
      ]
     },
     "execution_count": 285,
     "metadata": {},
     "output_type": "execute_result"
    }
   ],
   "source": [
    "artIdReq.status_code"
   ]
  },
  {
   "cell_type": "code",
   "execution_count": 288,
   "metadata": {},
   "outputs": [
    {
     "data": {
      "text/plain": [
       "{'external_urls': {'spotify': 'https://open.spotify.com/artist/6vWDO969PvNqNYHIOW5v0m'},\n",
       " 'followers': {'href': None, 'total': 28031952},\n",
       " 'genres': ['dance pop', 'pop', 'post-teen pop', 'r&b'],\n",
       " 'href': 'https://api.spotify.com/v1/artists/6vWDO969PvNqNYHIOW5v0m',\n",
       " 'id': '6vWDO969PvNqNYHIOW5v0m',\n",
       " 'images': [{'height': 640,\n",
       "   'url': 'https://i.scdn.co/image/ab6761610000e5ebd3d058be8485c8583703b6d2',\n",
       "   'width': 640},\n",
       "  {'height': 320,\n",
       "   'url': 'https://i.scdn.co/image/ab67616100005174d3d058be8485c8583703b6d2',\n",
       "   'width': 320},\n",
       "  {'height': 160,\n",
       "   'url': 'https://i.scdn.co/image/ab6761610000f178d3d058be8485c8583703b6d2',\n",
       "   'width': 160}],\n",
       " 'name': 'Beyoncé',\n",
       " 'popularity': 88,\n",
       " 'type': 'artist',\n",
       " 'uri': 'spotify:artist:6vWDO969PvNqNYHIOW5v0m'}"
      ]
     },
     "execution_count": 288,
     "metadata": {},
     "output_type": "execute_result"
    }
   ],
   "source": [
    "reqData = artIdReq.json()\n",
    "\n",
    "\n",
    "reqData"
   ]
  },
  {
   "cell_type": "code",
   "execution_count": 294,
   "metadata": {},
   "outputs": [
    {
     "name": "stdout",
     "output_type": "stream",
     "text": [
      "Beyoncé\n"
     ]
    }
   ],
   "source": [
    "#for key in reqData:\n",
    "#    print(key)\n",
    "\n",
    "print(reqData['name'])"
   ]
  },
  {
   "cell_type": "code",
   "execution_count": 291,
   "metadata": {},
   "outputs": [
    {
     "ename": "TypeError",
     "evalue": "string indices must be integers",
     "output_type": "error",
     "traceback": [
      "\u001b[0;31m---------------------------------------------------------------------------\u001b[0m",
      "\u001b[0;31mTypeError\u001b[0m                                 Traceback (most recent call last)",
      "\u001b[0;32m<ipython-input-291-dd5d0594650b>\u001b[0m in \u001b[0;36m<module>\u001b[0;34m()\u001b[0m\n\u001b[1;32m      1\u001b[0m \u001b[0;32mfor\u001b[0m \u001b[0martist\u001b[0m \u001b[0;32min\u001b[0m \u001b[0mreqData\u001b[0m\u001b[0;34m:\u001b[0m\u001b[0;34m\u001b[0m\u001b[0;34m\u001b[0m\u001b[0m\n\u001b[0;32m----> 2\u001b[0;31m     \u001b[0mprint\u001b[0m\u001b[0;34m(\u001b[0m\u001b[0;34m\"Artist:\"\u001b[0m\u001b[0;34m,\u001b[0m \u001b[0martist\u001b[0m\u001b[0;34m[\u001b[0m\u001b[0;34m'name'\u001b[0m\u001b[0;34m]\u001b[0m\u001b[0;34m)\u001b[0m\u001b[0;34m\u001b[0m\u001b[0;34m\u001b[0m\u001b[0m\n\u001b[0m\u001b[1;32m      3\u001b[0m     \u001b[0mprint\u001b[0m\u001b[0;34m(\u001b[0m\u001b[0;34m\"Artist ID:\"\u001b[0m\u001b[0;34m,\u001b[0m \u001b[0martist\u001b[0m\u001b[0;34m[\u001b[0m\u001b[0;34m'id'\u001b[0m\u001b[0;34m]\u001b[0m\u001b[0;34m)\u001b[0m\u001b[0;34m\u001b[0m\u001b[0;34m\u001b[0m\u001b[0m\n\u001b[1;32m      4\u001b[0m     \u001b[0mprint\u001b[0m\u001b[0;34m(\u001b[0m\u001b[0;34m\"Popularity:\"\u001b[0m\u001b[0;34m,\u001b[0m\u001b[0martist\u001b[0m\u001b[0;34m[\u001b[0m\u001b[0;34m'popularity'\u001b[0m\u001b[0;34m]\u001b[0m\u001b[0;34m)\u001b[0m\u001b[0;34m\u001b[0m\u001b[0;34m\u001b[0m\u001b[0m\n\u001b[1;32m      5\u001b[0m     \u001b[0mprint\u001b[0m\u001b[0;34m(\u001b[0m\u001b[0;34m\"Genres:\"\u001b[0m\u001b[0;34m,\u001b[0m \u001b[0martist\u001b[0m\u001b[0;34m[\u001b[0m\u001b[0;34m'genres'\u001b[0m\u001b[0;34m]\u001b[0m\u001b[0;34m)\u001b[0m\u001b[0;34m\u001b[0m\u001b[0;34m\u001b[0m\u001b[0m\n",
      "\u001b[0;31mTypeError\u001b[0m: string indices must be integers"
     ]
    }
   ],
   "source": [
    "for artist in d['artists']:\n",
    "    print(\"Artist:\", artist['name'])\n",
    "    print(\"Popularity:\",artist['popularity'])\n",
    "    print(\"Genres:\", artist['genres'][0:2])\n",
    "    for key in artist['followers']:\n",
    "        if key == \"total\":\n",
    "            print(\"Followers:\", artist['followers'][key])\n",
    "    print(\"-----\")"
   ]
  },
  {
   "cell_type": "code",
   "execution_count": 49,
   "metadata": {},
   "outputs": [],
   "source": [
    "followersList = []\n",
    "artistsList = []\n",
    "popularityList = []"
   ]
  },
  {
   "cell_type": "code",
   "execution_count": 50,
   "metadata": {},
   "outputs": [
    {
     "name": "stdout",
     "output_type": "stream",
     "text": [
      "['Lil Baby', 'Drake', 'Lil Uzi Vert']\n",
      "[95, 98, 91]\n",
      "[7567982, 55780066, 11684670]\n"
     ]
    }
   ],
   "source": [
    "for artist in d['artists']:\n",
    "    artistsList.append(artist['name'])\n",
    "    popularityList.append(artist['popularity'])\n",
    "    for key in artist['followers']:\n",
    "        if key == 'total':\n",
    "            followersList.append(artist['followers'][key])\n",
    "            \n",
    "print(rappers)\n",
    "print(popularity)\n",
    "print(followers)"
   ]
  },
  {
   "cell_type": "code",
   "execution_count": 52,
   "metadata": {},
   "outputs": [
    {
     "data": {
      "text/plain": [
       "<BarContainer object of 3 artists>"
      ]
     },
     "execution_count": 52,
     "metadata": {},
     "output_type": "execute_result"
    },
    {
     "data": {
      "image/png": "[encoded data removed]",
      "text/plain": [
       "<Figure size 432x288 with 1 Axes>"
      ]
     },
     "metadata": {
      "needs_background": "light"
     },
     "output_type": "display_data"
    }
   ],
   "source": [
    "plt.bar(rappers, followers)"
   ]
  },
  {
   "cell_type": "code",
   "execution_count": 58,
   "metadata": {},
   "outputs": [
    {
     "data": {
      "text/plain": [
       "dict"
      ]
     },
     "execution_count": 58,
     "metadata": {},
     "output_type": "execute_result"
    }
   ],
   "source": [
    "type(d)"
   ]
  },
  {
   "cell_type": "code",
   "execution_count": 178,
   "metadata": {},
   "outputs": [
    {
     "data": {
      "text/html": [
       "<div>\n",
       "<style scoped>\n",
       "    .dataframe tbody tr th:only-of-type {\n",
       "        vertical-align: middle;\n",
       "    }\n",
       "\n",
       "    .dataframe tbody tr th {\n",
       "        vertical-align: top;\n",
       "    }\n",
       "\n",
       "    .dataframe thead th {\n",
       "        text-align: right;\n",
       "    }\n",
       "</style>\n",
       "<table border=\"1\" class=\"dataframe\">\n",
       "  <thead>\n",
       "    <tr style=\"text-align: right;\">\n",
       "      <th></th>\n",
       "      <th>Name</th>\n",
       "      <th>Artist ID</th>\n",
       "      <th>Genre</th>\n",
       "      <th>Popularity</th>\n",
       "      <th>Followers</th>\n",
       "    </tr>\n",
       "  </thead>\n",
       "  <tbody>\n",
       "    <tr>\n",
       "      <th>0</th>\n",
       "      <td>Lil Baby</td>\n",
       "      <td>5f7VJjfbwm532GiveGC0ZK</td>\n",
       "      <td>atl hip hop</td>\n",
       "      <td>95</td>\n",
       "      <td>7567982</td>\n",
       "    </tr>\n",
       "    <tr>\n",
       "      <th>1</th>\n",
       "      <td>Drake</td>\n",
       "      <td>3TVXtAsR1Inumwj472S9r4</td>\n",
       "      <td>canadian hip hop</td>\n",
       "      <td>98</td>\n",
       "      <td>55780066</td>\n",
       "    </tr>\n",
       "    <tr>\n",
       "      <th>2</th>\n",
       "      <td>Lil Uzi Vert</td>\n",
       "      <td>4O15NlyKLIASxsJ0PrXPfz</td>\n",
       "      <td>melodic rap</td>\n",
       "      <td>91</td>\n",
       "      <td>11684670</td>\n",
       "    </tr>\n",
       "  </tbody>\n",
       "</table>\n",
       "</div>"
      ],
      "text/plain": [
       "           Name               Artist ID             Genre  Popularity  \\\n",
       "0      Lil Baby  5f7VJjfbwm532GiveGC0ZK       atl hip hop          95   \n",
       "1         Drake  3TVXtAsR1Inumwj472S9r4  canadian hip hop          98   \n",
       "2  Lil Uzi Vert  4O15NlyKLIASxsJ0PrXPfz       melodic rap          91   \n",
       "\n",
       "   Followers  \n",
       "0    7567982  \n",
       "1   55780066  \n",
       "2   11684670  "
      ]
     },
     "execution_count": 178,
     "metadata": {},
     "output_type": "execute_result"
    }
   ],
   "source": [
    "rows=[]\n",
    "for artist in d['artists']:\n",
    "    artistData = []\n",
    "    artistData.append(artist['name'])\n",
    "    artistData.append(artist['id'])\n",
    "    artistData.append(artist['genres'][0])\n",
    "    artistData.append(artist['popularity'])\n",
    "    for key in artist['followers']:\n",
    "        if key == 'total':\n",
    "            artistData.append(artist['followers'][key])\n",
    "    rows.append(artistData)\n",
    "    \n",
    "pd.DataFrame(rows, columns=['Name','Artist ID', 'Genre', 'Popularity', 'Followers']).head()"
   ]
  },
  {
   "cell_type": "code",
   "execution_count": 160,
   "metadata": {},
   "outputs": [],
   "source": []
  },
  {
   "cell_type": "code",
   "execution_count": null,
   "metadata": {},
   "outputs": [],
   "source": []
  },
  {
   "cell_type": "code",
   "execution_count": null,
   "metadata": {},
   "outputs": [],
   "source": []
  },
  {
   "cell_type": "code",
   "execution_count": null,
   "metadata": {},
   "outputs": [],
   "source": []
  },
  {
   "cell_type": "code",
   "execution_count": null,
   "metadata": {},
   "outputs": [],
   "source": []
  }
 ],
 "metadata": {
  "kernelspec": {
   "display_name": "Python 3",
   "language": "python",
   "name": "python3"
  },
  "language_info": {
   "codemirror_mode": {
    "name": "ipython",
    "version": 3
   },
   "file_extension": ".py",
   "mimetype": "text/x-python",
   "name": "python",
   "nbconvert_exporter": "python",
   "pygments_lexer": "ipython3",
   "version": "3.6.9"
  }
 },
 "nbformat": 4,
 "nbformat_minor": 2
}
