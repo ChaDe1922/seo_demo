{
 "cells": [
  {
   "cell_type": "code",
   "execution_count": 135,
   "metadata": {},
   "outputs": [],
   "source": [
    "#Import for data visualization\n",
    "import pandas as pd\n",
    "import matplotlib.pyplot as plt\n",
    "import numpy as np\n",
    "\n",
    "#Import API Requirements\n",
    "import requests\n",
    "import spotipy\n",
    "\n",
    "#Import JSON\n",
    "import json\n",
    "\n",
    "#import SQL\n",
    "import sqlalchemy\n",
    "from sqlalchemy import create_engine"
   ]
  },
  {
   "cell_type": "code",
   "execution_count": 136,
   "metadata": {},
   "outputs": [],
   "source": [
    "#Authentication variables\n",
    "CLIENT_ID = '744aee4ee39a4b6787e645452d1d36b4'\n",
    "CLIENT_SECRET = '7b72ec76041d4818b061e91ce613d780'"
   ]
  },
  {
   "cell_type": "code",
   "execution_count": 137,
   "metadata": {},
   "outputs": [],
   "source": [
    "#Authenticate myself with a post request including the url and my creds\n",
    "AUTH_URL = 'https://accounts.spotify.com/api/token'\n",
    "auth_response = requests.post(AUTH_URL, {\n",
    "    'grant_type': 'client_credentials',\n",
    "    'client_id': CLIENT_ID,\n",
    "    'client_secret': CLIENT_SECRET,\n",
    "})"
   ]
  },
  {
   "cell_type": "code",
   "execution_count": 138,
   "metadata": {},
   "outputs": [
    {
     "name": "stdout",
     "output_type": "stream",
     "text": [
      "200\n"
     ]
    }
   ],
   "source": [
    "#Print the response to my request\n",
    "print(auth_response.status_code)"
   ]
  },
  {
   "cell_type": "code",
   "execution_count": 139,
   "metadata": {},
   "outputs": [],
   "source": [
    "#convert the response, \"auth_response\" to json using .json()\n",
    "auth_response_data = auth_response.json()"
   ]
  },
  {
   "cell_type": "code",
   "execution_count": 140,
   "metadata": {},
   "outputs": [],
   "source": [
    "#pull the access token from the response and save it in a variable \"access_token\"\n",
    "access_token = auth_response_data['access_token']"
   ]
  },
  {
   "cell_type": "code",
   "execution_count": 141,
   "metadata": {},
   "outputs": [],
   "source": [
    "#save the token to the API to use in my GET request headers\n",
    "headers = {\n",
    "    'Authorization': 'Bearer {token}'.format(token=access_token)\n",
    "}"
   ]
  },
  {
   "cell_type": "code",
   "execution_count": 142,
   "metadata": {},
   "outputs": [],
   "source": [
    "#Access endpoints base URL for spotify\n",
    "BASE_URL = 'https://api.spotify.com/v1/'"
   ]
  },
  {
   "cell_type": "code",
   "execution_count": 146,
   "metadata": {},
   "outputs": [
    {
     "name": "stdout",
     "output_type": "stream",
     "text": [
      "Beyonce request\n",
      "Artist ID for Beyoncé : 6vWDO969PvNqNYHIOW5v0m\n",
      "Rihanna request\n",
      "Artist ID for Rihanna : 5pKCCKE2ajJHZ9KAiaK11H\n",
      "Megan Thee Stallion request\n",
      "Artist ID for Megan Thee Stallion : 181bsRPaVXVlUKXrxwZfHK\n",
      "Drake request\n",
      "Artist ID for Drake : 3TVXtAsR1Inumwj472S9r4\n"
     ]
    }
   ],
   "source": [
    "rows = []\n",
    "id = 0\n",
    "for entry in desArtistList:\n",
    "    print(entry, \"request\")\n",
    "    r = requests.get(BASE_URL + 'search?q=' + entry + '&type=artist&limit=1', headers = headers)\n",
    "    #print(artIdReq.status_code)\n",
    "    d = r.json()\n",
    "    #print(d)\n",
    "    artistInfo = d['artists']\n",
    "    for item in artistInfo['items']:\n",
    "        artistName = item['name']\n",
    "        artistID = item['id']\n",
    "        print(\"Artist ID for\", artistName, \":\", artistID)\n",
    "        \n",
    "        artistData = []\n",
    "        artistData.append(id)\n",
    "        artistData.append(item['name'])\n",
    "        artistData.append(item['id'])\n",
    "        artistData.append(item['genres'][0])\n",
    "        artistData.append(item['popularity'])\n",
    "        for key in item['followers']:\n",
    "            if key == 'total':\n",
    "                artistData.append(item['followers'][key])\n",
    "        rows.append(artistData)\n",
    "        id += 1\n",
    "\n",
    "oldDF = pd.DataFrame(rows, columns=['id','Name','Artist ID', 'Genre', 'Popularity', 'Followers'])"
   ]
  },
  {
   "cell_type": "code",
   "execution_count": 126,
   "metadata": {},
   "outputs": [
    {
     "name": "stdout",
     "output_type": "stream",
     "text": [
      "Enter up to 5 artists(Separated by commas): Drake, Beyonce, Dua Lipa, Justin Bieber, DaBaby, Rihanna, T.I., Jeezy, Chris Brown, Brittany Spears, Migos, Lil Baby, Lil Uzi Vert, Bryson Tiller, Mooski, Cardi B, Jazmine Sullivan\n"
     ]
    }
   ],
   "source": [
    "NewdesArtistStr = (input(\"Enter up to 5 artists(Separated by commas): \"))\n",
    "\n",
    "NewdesArtistList = NewdesArtistStr.split (\", \")\n",
    "\n"
   ]
  },
  {
   "cell_type": "code",
   "execution_count": 128,
   "metadata": {},
   "outputs": [
    {
     "data": {
      "text/plain": [
       "['Drake',\n",
       " 'Beyonce',\n",
       " 'Dua Lipa',\n",
       " 'Justin Bieber',\n",
       " 'DaBaby',\n",
       " 'Rihanna',\n",
       " 'T.I.',\n",
       " 'Jeezy',\n",
       " 'Chris Brown',\n",
       " 'Brittany Spears',\n",
       " 'Migos',\n",
       " 'Lil Baby',\n",
       " 'Lil Uzi Vert',\n",
       " 'Bryson Tiller',\n",
       " 'Mooski',\n",
       " 'Cardi B',\n",
       " 'Jazmine Sullivan']"
      ]
     },
     "execution_count": 128,
     "metadata": {},
     "output_type": "execute_result"
    }
   ],
   "source": [
    "NewdesArtistList"
   ]
  },
  {
   "cell_type": "code",
   "execution_count": 129,
   "metadata": {},
   "outputs": [
    {
     "name": "stdout",
     "output_type": "stream",
     "text": [
      "Drake request\n",
      "Artist ID for Drake : 3TVXtAsR1Inumwj472S9r4\n",
      "There is a matching artist\n",
      "\n",
      "    Name               Artist ID             Genre  Popularity  Followers\n",
      "3  Drake  3TVXtAsR1Inumwj472S9r4  canadian hip hop          98   55798374\n",
      "Beyonce request\n",
      "Artist ID for Beyoncé : 6vWDO969PvNqNYHIOW5v0m\n",
      "There is a matching artist\n",
      "\n",
      "      Name               Artist ID      Genre  Popularity  Followers\n",
      "0  Beyoncé  6vWDO969PvNqNYHIOW5v0m  dance pop          88   28042167\n",
      "Dua Lipa request\n",
      "Artist ID for Dua Lipa : 6M2wZ9GZgrQXHCFfjv46we\n",
      "There is no matching artist. Adding New Artist\n",
      "Justin Bieber request\n",
      "Artist ID for Justin Bieber : 1uNFoZAHBGtllmzznpCI3s\n",
      "There is no matching artist. Adding New Artist\n",
      "DaBaby request\n",
      "Artist ID for DaBaby : 4r63FhuTkUYltbVAg5TQnk\n",
      "There is no matching artist. Adding New Artist\n",
      "Rihanna request\n",
      "Artist ID for Rihanna : 5pKCCKE2ajJHZ9KAiaK11H\n",
      "There is a matching artist\n",
      "\n",
      "      Name               Artist ID          Genre  Popularity  Followers\n",
      "1  Rihanna  5pKCCKE2ajJHZ9KAiaK11H  barbadian pop          92   43706469\n",
      "T.I. request\n",
      "Artist ID for T.I. : 4OBJLual30L7gRl5UkeRcT\n",
      "There is no matching artist. Adding New Artist\n",
      "Jeezy request\n",
      "Artist ID for Jeezy : 4yBK75WVCQXej1p04GWqxH\n",
      "There is no matching artist. Adding New Artist\n",
      "Chris Brown request\n",
      "Artist ID for Chris Brown : 7bXgB6jMjp9ATFy66eO08Z\n",
      "There is no matching artist. Adding New Artist\n",
      "Brittany Spears request\n",
      "Migos request\n",
      "Artist ID for Migos : 6oMuImdp5ZcFhWP0ESe6mG\n",
      "There is no matching artist. Adding New Artist\n",
      "Lil Baby request\n",
      "Artist ID for Lil Baby : 5f7VJjfbwm532GiveGC0ZK\n",
      "There is no matching artist. Adding New Artist\n",
      "Lil Uzi Vert request\n",
      "Artist ID for Lil Uzi Vert : 4O15NlyKLIASxsJ0PrXPfz\n",
      "There is no matching artist. Adding New Artist\n",
      "Bryson Tiller request\n",
      "Artist ID for Bryson Tiller : 2EMAnMvWE2eb56ToJVfCWs\n",
      "There is no matching artist. Adding New Artist\n",
      "Mooski request\n",
      "Artist ID for Mooski : 4NqH3V7GS0Igs1VyGMXEi8\n",
      "There is no matching artist. Adding New Artist\n",
      "Cardi B request\n",
      "Artist ID for Cardi B : 4kYSro6naA4h99UJvo89HB\n",
      "There is no matching artist. Adding New Artist\n",
      "Jazmine Sullivan request\n",
      "Artist ID for Jazmine Sullivan : 7gSjFKpVmDgC2MMsnN8CYq\n",
      "There is no matching artist. Adding New Artist\n"
     ]
    }
   ],
   "source": [
    "rows = []\n",
    "for entry in NewdesArtistList:\n",
    "    print(entry, \"request\")\n",
    "    r = requests.get(BASE_URL + 'search?q=' + entry + '&type=artist&limit=1', headers = headers)\n",
    "    #print(artIdReq.status_code)\n",
    "    d = r.json()\n",
    "    #print(d)\n",
    "    artistInfo = d['artists']\n",
    "    for item in artistInfo['items']:\n",
    "        artistName = item['name']\n",
    "        artistID = item['id']\n",
    "        print(\"Artist ID for\", artistName, \":\", artistID)\n",
    "        \n",
    "        matching_artists = oldDF[(oldDF[\"Name\"] == artistName) | (oldDF[\"Artist ID\"] == artistID)]\n",
    "        if not matching_artists.empty:\n",
    "            print(\"There is a matching artist\\n\")\n",
    "            print(matching_artists, \"\\n\")\n",
    "        \n",
    "        else:\n",
    "            print(\"There is no matching artist. Adding New Artist\\n\")\n",
    "            NewArtistData = []\n",
    "            NewArtistData.append(item['name'])\n",
    "            NewArtistData.append(item['id'])\n",
    "            NewArtistData.append(item['genres'][0])\n",
    "            NewArtistData.append(item['popularity'])\n",
    "            for key in item['followers']:\n",
    "                if key == 'total':\n",
    "                    NewArtistData.append(item['followers'][key])\n",
    "            rows.append(NewArtistData)\n",
    "            \n",
    "NewDF = pd.DataFrame(rows, columns=['Name','Artist ID', 'Genre', 'Popularity', 'Followers'])"
   ]
  },
  {
   "cell_type": "code",
   "execution_count": 150,
   "metadata": {
    "scrolled": true
   },
   "outputs": [
    {
     "data": {
      "text/plain": [
       "4"
      ]
     },
     "execution_count": 150,
     "metadata": {},
     "output_type": "execute_result"
    }
   ],
   "source": [
    "oldDF['id'].max() + 1"
   ]
  },
  {
   "cell_type": "code",
   "execution_count": 131,
   "metadata": {},
   "outputs": [
    {
     "data": {
      "text/html": [
       "<div>\n",
       "<style scoped>\n",
       "    .dataframe tbody tr th:only-of-type {\n",
       "        vertical-align: middle;\n",
       "    }\n",
       "\n",
       "    .dataframe tbody tr th {\n",
       "        vertical-align: top;\n",
       "    }\n",
       "\n",
       "    .dataframe thead th {\n",
       "        text-align: right;\n",
       "    }\n",
       "</style>\n",
       "<table border=\"1\" class=\"dataframe\">\n",
       "  <thead>\n",
       "    <tr style=\"text-align: right;\">\n",
       "      <th></th>\n",
       "      <th>Name</th>\n",
       "      <th>Artist ID</th>\n",
       "      <th>Genre</th>\n",
       "      <th>Popularity</th>\n",
       "      <th>Followers</th>\n",
       "    </tr>\n",
       "  </thead>\n",
       "  <tbody>\n",
       "    <tr>\n",
       "      <th>0</th>\n",
       "      <td>Dua Lipa</td>\n",
       "      <td>6M2wZ9GZgrQXHCFfjv46we</td>\n",
       "      <td>dance pop</td>\n",
       "      <td>95</td>\n",
       "      <td>26486883</td>\n",
       "    </tr>\n",
       "    <tr>\n",
       "      <th>1</th>\n",
       "      <td>Justin Bieber</td>\n",
       "      <td>1uNFoZAHBGtllmzznpCI3s</td>\n",
       "      <td>canadian pop</td>\n",
       "      <td>97</td>\n",
       "      <td>47553366</td>\n",
       "    </tr>\n",
       "    <tr>\n",
       "      <th>2</th>\n",
       "      <td>DaBaby</td>\n",
       "      <td>4r63FhuTkUYltbVAg5TQnk</td>\n",
       "      <td>north carolina hip hop</td>\n",
       "      <td>94</td>\n",
       "      <td>7349843</td>\n",
       "    </tr>\n",
       "    <tr>\n",
       "      <th>3</th>\n",
       "      <td>T.I.</td>\n",
       "      <td>4OBJLual30L7gRl5UkeRcT</td>\n",
       "      <td>atl hip hop</td>\n",
       "      <td>80</td>\n",
       "      <td>3804326</td>\n",
       "    </tr>\n",
       "    <tr>\n",
       "      <th>4</th>\n",
       "      <td>Jeezy</td>\n",
       "      <td>4yBK75WVCQXej1p04GWqxH</td>\n",
       "      <td>atl hip hop</td>\n",
       "      <td>75</td>\n",
       "      <td>1871241</td>\n",
       "    </tr>\n",
       "    <tr>\n",
       "      <th>5</th>\n",
       "      <td>Chris Brown</td>\n",
       "      <td>7bXgB6jMjp9ATFy66eO08Z</td>\n",
       "      <td>dance pop</td>\n",
       "      <td>91</td>\n",
       "      <td>13941579</td>\n",
       "    </tr>\n",
       "    <tr>\n",
       "      <th>6</th>\n",
       "      <td>Migos</td>\n",
       "      <td>6oMuImdp5ZcFhWP0ESe6mG</td>\n",
       "      <td>atl hip hop</td>\n",
       "      <td>88</td>\n",
       "      <td>11615645</td>\n",
       "    </tr>\n",
       "    <tr>\n",
       "      <th>7</th>\n",
       "      <td>Lil Baby</td>\n",
       "      <td>5f7VJjfbwm532GiveGC0ZK</td>\n",
       "      <td>atl hip hop</td>\n",
       "      <td>95</td>\n",
       "      <td>7576486</td>\n",
       "    </tr>\n",
       "    <tr>\n",
       "      <th>8</th>\n",
       "      <td>Lil Uzi Vert</td>\n",
       "      <td>4O15NlyKLIASxsJ0PrXPfz</td>\n",
       "      <td>melodic rap</td>\n",
       "      <td>91</td>\n",
       "      <td>11689295</td>\n",
       "    </tr>\n",
       "    <tr>\n",
       "      <th>9</th>\n",
       "      <td>Bryson Tiller</td>\n",
       "      <td>2EMAnMvWE2eb56ToJVfCWs</td>\n",
       "      <td>kentucky hip hop</td>\n",
       "      <td>81</td>\n",
       "      <td>4971554</td>\n",
       "    </tr>\n",
       "    <tr>\n",
       "      <th>10</th>\n",
       "      <td>Mooski</td>\n",
       "      <td>4NqH3V7GS0Igs1VyGMXEi8</td>\n",
       "      <td>alabama rap</td>\n",
       "      <td>67</td>\n",
       "      <td>29955</td>\n",
       "    </tr>\n",
       "    <tr>\n",
       "      <th>11</th>\n",
       "      <td>Cardi B</td>\n",
       "      <td>4kYSro6naA4h99UJvo89HB</td>\n",
       "      <td>dance pop</td>\n",
       "      <td>88</td>\n",
       "      <td>17001845</td>\n",
       "    </tr>\n",
       "    <tr>\n",
       "      <th>12</th>\n",
       "      <td>Jazmine Sullivan</td>\n",
       "      <td>7gSjFKpVmDgC2MMsnN8CYq</td>\n",
       "      <td>alternative r&amp;b</td>\n",
       "      <td>71</td>\n",
       "      <td>1392393</td>\n",
       "    </tr>\n",
       "  </tbody>\n",
       "</table>\n",
       "</div>"
      ],
      "text/plain": [
       "                Name               Artist ID                   Genre  \\\n",
       "0           Dua Lipa  6M2wZ9GZgrQXHCFfjv46we               dance pop   \n",
       "1      Justin Bieber  1uNFoZAHBGtllmzznpCI3s            canadian pop   \n",
       "2             DaBaby  4r63FhuTkUYltbVAg5TQnk  north carolina hip hop   \n",
       "3               T.I.  4OBJLual30L7gRl5UkeRcT             atl hip hop   \n",
       "4              Jeezy  4yBK75WVCQXej1p04GWqxH             atl hip hop   \n",
       "5        Chris Brown  7bXgB6jMjp9ATFy66eO08Z               dance pop   \n",
       "6              Migos  6oMuImdp5ZcFhWP0ESe6mG             atl hip hop   \n",
       "7           Lil Baby  5f7VJjfbwm532GiveGC0ZK             atl hip hop   \n",
       "8       Lil Uzi Vert  4O15NlyKLIASxsJ0PrXPfz             melodic rap   \n",
       "9      Bryson Tiller  2EMAnMvWE2eb56ToJVfCWs        kentucky hip hop   \n",
       "10            Mooski  4NqH3V7GS0Igs1VyGMXEi8             alabama rap   \n",
       "11           Cardi B  4kYSro6naA4h99UJvo89HB               dance pop   \n",
       "12  Jazmine Sullivan  7gSjFKpVmDgC2MMsnN8CYq         alternative r&b   \n",
       "\n",
       "    Popularity  Followers  \n",
       "0           95   26486883  \n",
       "1           97   47553366  \n",
       "2           94    7349843  \n",
       "3           80    3804326  \n",
       "4           75    1871241  \n",
       "5           91   13941579  \n",
       "6           88   11615645  \n",
       "7           95    7576486  \n",
       "8           91   11689295  \n",
       "9           81    4971554  \n",
       "10          67      29955  \n",
       "11          88   17001845  \n",
       "12          71    1392393  "
      ]
     },
     "execution_count": 131,
     "metadata": {},
     "output_type": "execute_result"
    }
   ],
   "source": [
    "NewDF"
   ]
  },
  {
   "cell_type": "code",
   "execution_count": 132,
   "metadata": {},
   "outputs": [
    {
     "data": {
      "text/html": [
       "<div>\n",
       "<style scoped>\n",
       "    .dataframe tbody tr th:only-of-type {\n",
       "        vertical-align: middle;\n",
       "    }\n",
       "\n",
       "    .dataframe tbody tr th {\n",
       "        vertical-align: top;\n",
       "    }\n",
       "\n",
       "    .dataframe thead th {\n",
       "        text-align: right;\n",
       "    }\n",
       "</style>\n",
       "<table border=\"1\" class=\"dataframe\">\n",
       "  <thead>\n",
       "    <tr style=\"text-align: right;\">\n",
       "      <th></th>\n",
       "      <th>Name</th>\n",
       "      <th>Artist ID</th>\n",
       "      <th>Genre</th>\n",
       "      <th>Popularity</th>\n",
       "      <th>Followers</th>\n",
       "    </tr>\n",
       "  </thead>\n",
       "  <tbody>\n",
       "    <tr>\n",
       "      <th>0</th>\n",
       "      <td>Beyoncé</td>\n",
       "      <td>6vWDO969PvNqNYHIOW5v0m</td>\n",
       "      <td>dance pop</td>\n",
       "      <td>88</td>\n",
       "      <td>28042167</td>\n",
       "    </tr>\n",
       "    <tr>\n",
       "      <th>1</th>\n",
       "      <td>Rihanna</td>\n",
       "      <td>5pKCCKE2ajJHZ9KAiaK11H</td>\n",
       "      <td>barbadian pop</td>\n",
       "      <td>92</td>\n",
       "      <td>43706469</td>\n",
       "    </tr>\n",
       "    <tr>\n",
       "      <th>2</th>\n",
       "      <td>Megan Thee Stallion</td>\n",
       "      <td>181bsRPaVXVlUKXrxwZfHK</td>\n",
       "      <td>houston rap</td>\n",
       "      <td>89</td>\n",
       "      <td>4599060</td>\n",
       "    </tr>\n",
       "    <tr>\n",
       "      <th>3</th>\n",
       "      <td>Drake</td>\n",
       "      <td>3TVXtAsR1Inumwj472S9r4</td>\n",
       "      <td>canadian hip hop</td>\n",
       "      <td>98</td>\n",
       "      <td>55798374</td>\n",
       "    </tr>\n",
       "    <tr>\n",
       "      <th>0</th>\n",
       "      <td>Dua Lipa</td>\n",
       "      <td>6M2wZ9GZgrQXHCFfjv46we</td>\n",
       "      <td>dance pop</td>\n",
       "      <td>95</td>\n",
       "      <td>26486883</td>\n",
       "    </tr>\n",
       "    <tr>\n",
       "      <th>1</th>\n",
       "      <td>Justin Bieber</td>\n",
       "      <td>1uNFoZAHBGtllmzznpCI3s</td>\n",
       "      <td>canadian pop</td>\n",
       "      <td>97</td>\n",
       "      <td>47553366</td>\n",
       "    </tr>\n",
       "    <tr>\n",
       "      <th>2</th>\n",
       "      <td>DaBaby</td>\n",
       "      <td>4r63FhuTkUYltbVAg5TQnk</td>\n",
       "      <td>north carolina hip hop</td>\n",
       "      <td>94</td>\n",
       "      <td>7349843</td>\n",
       "    </tr>\n",
       "    <tr>\n",
       "      <th>3</th>\n",
       "      <td>T.I.</td>\n",
       "      <td>4OBJLual30L7gRl5UkeRcT</td>\n",
       "      <td>atl hip hop</td>\n",
       "      <td>80</td>\n",
       "      <td>3804326</td>\n",
       "    </tr>\n",
       "    <tr>\n",
       "      <th>4</th>\n",
       "      <td>Jeezy</td>\n",
       "      <td>4yBK75WVCQXej1p04GWqxH</td>\n",
       "      <td>atl hip hop</td>\n",
       "      <td>75</td>\n",
       "      <td>1871241</td>\n",
       "    </tr>\n",
       "    <tr>\n",
       "      <th>5</th>\n",
       "      <td>Chris Brown</td>\n",
       "      <td>7bXgB6jMjp9ATFy66eO08Z</td>\n",
       "      <td>dance pop</td>\n",
       "      <td>91</td>\n",
       "      <td>13941579</td>\n",
       "    </tr>\n",
       "    <tr>\n",
       "      <th>6</th>\n",
       "      <td>Migos</td>\n",
       "      <td>6oMuImdp5ZcFhWP0ESe6mG</td>\n",
       "      <td>atl hip hop</td>\n",
       "      <td>88</td>\n",
       "      <td>11615645</td>\n",
       "    </tr>\n",
       "    <tr>\n",
       "      <th>7</th>\n",
       "      <td>Lil Baby</td>\n",
       "      <td>5f7VJjfbwm532GiveGC0ZK</td>\n",
       "      <td>atl hip hop</td>\n",
       "      <td>95</td>\n",
       "      <td>7576486</td>\n",
       "    </tr>\n",
       "    <tr>\n",
       "      <th>8</th>\n",
       "      <td>Lil Uzi Vert</td>\n",
       "      <td>4O15NlyKLIASxsJ0PrXPfz</td>\n",
       "      <td>melodic rap</td>\n",
       "      <td>91</td>\n",
       "      <td>11689295</td>\n",
       "    </tr>\n",
       "    <tr>\n",
       "      <th>9</th>\n",
       "      <td>Bryson Tiller</td>\n",
       "      <td>2EMAnMvWE2eb56ToJVfCWs</td>\n",
       "      <td>kentucky hip hop</td>\n",
       "      <td>81</td>\n",
       "      <td>4971554</td>\n",
       "    </tr>\n",
       "    <tr>\n",
       "      <th>10</th>\n",
       "      <td>Mooski</td>\n",
       "      <td>4NqH3V7GS0Igs1VyGMXEi8</td>\n",
       "      <td>alabama rap</td>\n",
       "      <td>67</td>\n",
       "      <td>29955</td>\n",
       "    </tr>\n",
       "    <tr>\n",
       "      <th>11</th>\n",
       "      <td>Cardi B</td>\n",
       "      <td>4kYSro6naA4h99UJvo89HB</td>\n",
       "      <td>dance pop</td>\n",
       "      <td>88</td>\n",
       "      <td>17001845</td>\n",
       "    </tr>\n",
       "    <tr>\n",
       "      <th>12</th>\n",
       "      <td>Jazmine Sullivan</td>\n",
       "      <td>7gSjFKpVmDgC2MMsnN8CYq</td>\n",
       "      <td>alternative r&amp;b</td>\n",
       "      <td>71</td>\n",
       "      <td>1392393</td>\n",
       "    </tr>\n",
       "  </tbody>\n",
       "</table>\n",
       "</div>"
      ],
      "text/plain": [
       "                   Name               Artist ID                   Genre  \\\n",
       "0               Beyoncé  6vWDO969PvNqNYHIOW5v0m               dance pop   \n",
       "1               Rihanna  5pKCCKE2ajJHZ9KAiaK11H           barbadian pop   \n",
       "2   Megan Thee Stallion  181bsRPaVXVlUKXrxwZfHK             houston rap   \n",
       "3                 Drake  3TVXtAsR1Inumwj472S9r4        canadian hip hop   \n",
       "0              Dua Lipa  6M2wZ9GZgrQXHCFfjv46we               dance pop   \n",
       "1         Justin Bieber  1uNFoZAHBGtllmzznpCI3s            canadian pop   \n",
       "2                DaBaby  4r63FhuTkUYltbVAg5TQnk  north carolina hip hop   \n",
       "3                  T.I.  4OBJLual30L7gRl5UkeRcT             atl hip hop   \n",
       "4                 Jeezy  4yBK75WVCQXej1p04GWqxH             atl hip hop   \n",
       "5           Chris Brown  7bXgB6jMjp9ATFy66eO08Z               dance pop   \n",
       "6                 Migos  6oMuImdp5ZcFhWP0ESe6mG             atl hip hop   \n",
       "7              Lil Baby  5f7VJjfbwm532GiveGC0ZK             atl hip hop   \n",
       "8          Lil Uzi Vert  4O15NlyKLIASxsJ0PrXPfz             melodic rap   \n",
       "9         Bryson Tiller  2EMAnMvWE2eb56ToJVfCWs        kentucky hip hop   \n",
       "10               Mooski  4NqH3V7GS0Igs1VyGMXEi8             alabama rap   \n",
       "11              Cardi B  4kYSro6naA4h99UJvo89HB               dance pop   \n",
       "12     Jazmine Sullivan  7gSjFKpVmDgC2MMsnN8CYq         alternative r&b   \n",
       "\n",
       "    Popularity  Followers  \n",
       "0           88   28042167  \n",
       "1           92   43706469  \n",
       "2           89    4599060  \n",
       "3           98   55798374  \n",
       "0           95   26486883  \n",
       "1           97   47553366  \n",
       "2           94    7349843  \n",
       "3           80    3804326  \n",
       "4           75    1871241  \n",
       "5           91   13941579  \n",
       "6           88   11615645  \n",
       "7           95    7576486  \n",
       "8           91   11689295  \n",
       "9           81    4971554  \n",
       "10          67      29955  \n",
       "11          88   17001845  \n",
       "12          71    1392393  "
      ]
     },
     "execution_count": 132,
     "metadata": {},
     "output_type": "execute_result"
    }
   ],
   "source": []
  },
  {
   "cell_type": "code",
   "execution_count": 73,
   "metadata": {},
   "outputs": [],
   "source": []
  },
  {
   "cell_type": "code",
   "execution_count": 99,
   "metadata": {},
   "outputs": [],
   "source": [
    "matching_artists = oldDF[(oldDF[\"Name\"] == artistName) | (oldDF[\"Artist ID\"] == artistID)]"
   ]
  },
  {
   "cell_type": "code",
   "execution_count": 100,
   "metadata": {},
   "outputs": [
    {
     "data": {
      "text/html": [
       "<div>\n",
       "<style scoped>\n",
       "    .dataframe tbody tr th:only-of-type {\n",
       "        vertical-align: middle;\n",
       "    }\n",
       "\n",
       "    .dataframe tbody tr th {\n",
       "        vertical-align: top;\n",
       "    }\n",
       "\n",
       "    .dataframe thead th {\n",
       "        text-align: right;\n",
       "    }\n",
       "</style>\n",
       "<table border=\"1\" class=\"dataframe\">\n",
       "  <thead>\n",
       "    <tr style=\"text-align: right;\">\n",
       "      <th></th>\n",
       "      <th>Name</th>\n",
       "      <th>Artist ID</th>\n",
       "      <th>Genre</th>\n",
       "      <th>Popularity</th>\n",
       "      <th>Followers</th>\n",
       "    </tr>\n",
       "  </thead>\n",
       "  <tbody>\n",
       "    <tr>\n",
       "      <th>3</th>\n",
       "      <td>Drake</td>\n",
       "      <td>3TVXtAsR1Inumwj472S9r4</td>\n",
       "      <td>canadian hip hop</td>\n",
       "      <td>98</td>\n",
       "      <td>55798374</td>\n",
       "    </tr>\n",
       "  </tbody>\n",
       "</table>\n",
       "</div>"
      ],
      "text/plain": [
       "    Name               Artist ID             Genre  Popularity  Followers\n",
       "3  Drake  3TVXtAsR1Inumwj472S9r4  canadian hip hop          98   55798374"
      ]
     },
     "execution_count": 100,
     "metadata": {},
     "output_type": "execute_result"
    }
   ],
   "source": [
    "matching_artists"
   ]
  },
  {
   "cell_type": "code",
   "execution_count": 101,
   "metadata": {},
   "outputs": [
    {
     "name": "stdout",
     "output_type": "stream",
     "text": [
      "There is a matching artist\n",
      "    Name               Artist ID             Genre  Popularity  Followers\n",
      "3  Drake  3TVXtAsR1Inumwj472S9r4  canadian hip hop          98   55798374\n"
     ]
    }
   ],
   "source": [
    "if matching_artists.empty:\n",
    "    print(\"There is no matching artist\")\n",
    "else:\n",
    "    print(\"There is a matching artist\")\n",
    "    print(matching_artists)"
   ]
  },
  {
   "cell_type": "code",
   "execution_count": 49,
   "metadata": {},
   "outputs": [
    {
     "name": "stdout",
     "output_type": "stream",
     "text": [
      "Beyonce True\n",
      "Rihanna True\n",
      "Megan Thee Stallion True\n",
      "Drake True\n"
     ]
    }
   ],
   "source": [
    "#User request entries\n",
    "for entry in desArtistList:\n",
    "    res = any(item in entry for item in desArtistList)\n",
    "    print(entry, res)"
   ]
  },
  {
   "cell_type": "code",
   "execution_count": 42,
   "metadata": {},
   "outputs": [
    {
     "name": "stdout",
     "output_type": "stream",
     "text": [
      "Beyoncé\n",
      "Rihanna\n",
      "Rihanna is already in this list\n",
      "Megan Thee Stallion\n",
      "Megan Thee Stallion is already in this list\n"
     ]
    }
   ],
   "source": [
    "for name in oldDF['Name']:\n",
    "    print(name)\n",
    "    if name in desArtistList:\n",
    "        print(name, \"is already in this list\")"
   ]
  },
  {
   "cell_type": "code",
   "execution_count": 59,
   "metadata": {},
   "outputs": [
    {
     "name": "stdout",
     "output_type": "stream",
     "text": [
      "Checking for Beyoncé\n",
      "No, this artist isn't here.\n",
      "Checking for Rihanna\n",
      "Yes, Rihanna found in List :  ['Beyonce', 'Rihanna', 'Megan Thee Stallion', 'Drake']\n",
      "Checking for Megan Thee Stallion\n",
      "Yes, Megan Thee Stallion found in List :  ['Beyonce', 'Rihanna', 'Megan Thee Stallion', 'Drake']\n"
     ]
    }
   ],
   "source": [
    "for name in oldDF['Name']:\n",
    "    print(\"Checking for\", name)\n",
    "    if name in desArtistList:\n",
    "        print(\"Yes,\", name,\"found in List : \", desArtistList)\n",
    "    \n",
    "    else:\n",
    "        print(\"No, this artist isn't here.\")"
   ]
  },
  {
   "cell_type": "code",
   "execution_count": null,
   "metadata": {},
   "outputs": [],
   "source": [
    "#do a GET request. Specify the url & the headers set for authentication\n",
    "#you can input parameters (params=) as to what limits you want on the json file that will be returned to you\n",
    "r = requests.get(BASE_URL + 'search?q=' + desArtist + '&type=artist&limit=1', headers = headers)\n",
    "\n"
   ]
  },
  {
   "cell_type": "code",
   "execution_count": null,
   "metadata": {},
   "outputs": [],
   "source": [
    "#convert whatever is returned into JSON\n",
    "d = r.json()\n",
    "\n",
    "\n",
    "d"
   ]
  },
  {
   "cell_type": "code",
   "execution_count": null,
   "metadata": {},
   "outputs": [],
   "source": [
    "#Get artist Key\n",
    "artistInfo = d['artists']\n",
    "for item in artistInfo['items']:\n",
    "    artistName = item['name']\n",
    "    artistID = item['id']\n",
    "    print(\"Artist ID for\", artistName, \":\", artistID)\n",
    "    #for key in item:\n",
    "        #if key == 'id':\n",
    "            #print(key, \":\", item[key])\n",
    "\n",
    "    "
   ]
  },
  {
   "cell_type": "code",
   "execution_count": null,
   "metadata": {},
   "outputs": [],
   "source": [
    "#Get Artist Data\n",
    "artIdReq = requests.get(BASE_URL + 'artists/' + artistID, headers = headers)"
   ]
  },
  {
   "cell_type": "code",
   "execution_count": null,
   "metadata": {},
   "outputs": [],
   "source": [
    "artIdReq.status_code"
   ]
  },
  {
   "cell_type": "code",
   "execution_count": null,
   "metadata": {},
   "outputs": [],
   "source": [
    "reqData = artIdReq.json()\n",
    "\n",
    "\n",
    "reqData"
   ]
  },
  {
   "cell_type": "code",
   "execution_count": null,
   "metadata": {},
   "outputs": [],
   "source": [
    "#for key in reqData:\n",
    "#    print(key)\n",
    "\n",
    "print(reqData['name'])"
   ]
  },
  {
   "cell_type": "code",
   "execution_count": null,
   "metadata": {},
   "outputs": [],
   "source": [
    "for artist in d['artists']:\n",
    "    print(\"Artist:\", artist['name'])\n",
    "    print(\"Popularity:\",artist['popularity'])\n",
    "    print(\"Genres:\", artist['genres'][0:2])\n",
    "    for key in artist['followers']:\n",
    "        if key == \"total\":\n",
    "            print(\"Followers:\", artist['followers'][key])\n",
    "    print(\"-----\")"
   ]
  },
  {
   "cell_type": "code",
   "execution_count": null,
   "metadata": {},
   "outputs": [],
   "source": [
    "followersList = []\n",
    "artistsList = []\n",
    "popularityList = []"
   ]
  },
  {
   "cell_type": "code",
   "execution_count": null,
   "metadata": {},
   "outputs": [],
   "source": [
    "for artist in d['artists']:\n",
    "    artistsList.append(artist['name'])\n",
    "    popularityList.append(artist['popularity'])\n",
    "    for key in artist['followers']:\n",
    "        if key == 'total':\n",
    "            followersList.append(artist['followers'][key])\n",
    "            \n",
    "print(rappers)\n",
    "print(popularity)\n",
    "print(followers)"
   ]
  },
  {
   "cell_type": "code",
   "execution_count": null,
   "metadata": {},
   "outputs": [],
   "source": [
    "plt.bar(rappers, followers)"
   ]
  },
  {
   "cell_type": "code",
   "execution_count": null,
   "metadata": {},
   "outputs": [],
   "source": [
    "type(d)"
   ]
  },
  {
   "cell_type": "code",
   "execution_count": null,
   "metadata": {},
   "outputs": [],
   "source": [
    "rows=[]\n",
    "for artist in d['artists']:\n",
    "    artistData = []\n",
    "    artistData.append(artist['name'])\n",
    "    artistData.append(artist['id'])\n",
    "    artistData.append(artist['genres'][0])\n",
    "    artistData.append(artist['popularity'])\n",
    "    for key in artist['followers']:\n",
    "        if key == 'total':\n",
    "            artistData.append(artist['followers'][key])\n",
    "    rows.append(artistData)\n",
    "    \n",
    "newDF = pd.DataFrame(rows, columns=['Name','Artist ID', 'Genre', 'Popularity', 'Followers']).head()"
   ]
  },
  {
   "cell_type": "code",
   "execution_count": null,
   "metadata": {},
   "outputs": [],
   "source": [
    "n"
   ]
  },
  {
   "cell_type": "code",
   "execution_count": null,
   "metadata": {},
   "outputs": [],
   "source": []
  },
  {
   "cell_type": "code",
   "execution_count": null,
   "metadata": {},
   "outputs": [],
   "source": []
  },
  {
   "cell_type": "code",
   "execution_count": null,
   "metadata": {},
   "outputs": [],
   "source": []
  },
  {
   "cell_type": "code",
   "execution_count": null,
   "metadata": {},
   "outputs": [],
   "source": []
  }
 ],
 "metadata": {
  "kernelspec": {
   "display_name": "Python 3",
   "language": "python",
   "name": "python3"
  },
  "language_info": {
   "codemirror_mode": {
    "name": "ipython",
    "version": 3
   },
   "file_extension": ".py",
   "mimetype": "text/x-python",
   "name": "python",
   "nbconvert_exporter": "python",
   "pygments_lexer": "ipython3",
   "version": "3.6.9"
  }
 },
 "nbformat": 4,
 "nbformat_minor": 2
}
